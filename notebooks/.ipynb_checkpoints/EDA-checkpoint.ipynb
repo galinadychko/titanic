{
 "cells": [
  {
   "cell_type": "code",
   "execution_count": 41,
   "id": "f1b749bb",
   "metadata": {
    "ExecuteTime": {
     "end_time": "2022-06-07T21:41:32.399543Z",
     "start_time": "2022-06-07T21:41:32.383548Z"
    }
   },
   "outputs": [],
   "source": [
    "import os\n",
    "import sys\n",
    "import numpy as np\n",
    "import pandas as pd\n",
    "from sklearn.linear_model import LogisticRegression\n",
    "from sklearn.model_selection import RandomizedSearchCV\n",
    "from scipy.stats import uniform\n",
    "\n",
    "import seaborn as sns"
   ]
  },
  {
   "cell_type": "code",
   "execution_count": 61,
   "id": "b4b559ad",
   "metadata": {
    "ExecuteTime": {
     "end_time": "2022-06-07T21:47:24.442366Z",
     "start_time": "2022-06-07T21:47:24.438366Z"
    }
   },
   "outputs": [],
   "source": [
    "RANDOM_STATE = 42\n",
    "N_ITER = 30\n",
    "N_CV = 5"
   ]
  },
  {
   "cell_type": "code",
   "execution_count": 3,
   "id": "a0155873",
   "metadata": {
    "ExecuteTime": {
     "end_time": "2022-06-07T21:31:24.908248Z",
     "start_time": "2022-06-07T21:31:24.894237Z"
    }
   },
   "outputs": [],
   "source": [
    "PROJECT_PATH = os.getcwd()\n",
    "PROJECT_PATH = os.path.join(PROJECT_PATH, \"..\")\n",
    "\n",
    "DATA_PATh = os.path.join(PROJECT_PATH, \"data\")"
   ]
  },
  {
   "cell_type": "code",
   "execution_count": 4,
   "id": "e4a7b327",
   "metadata": {
    "ExecuteTime": {
     "end_time": "2022-06-07T21:31:24.924244Z",
     "start_time": "2022-06-07T21:31:24.910236Z"
    }
   },
   "outputs": [],
   "source": [
    "df = pd.read_csv(os.path.join(DATA_PATh, \"train.csv\"))"
   ]
  },
  {
   "cell_type": "code",
   "execution_count": 5,
   "id": "3f293536",
   "metadata": {
    "ExecuteTime": {
     "end_time": "2022-06-07T21:31:24.955747Z",
     "start_time": "2022-06-07T21:31:24.926236Z"
    }
   },
   "outputs": [
    {
     "data": {
      "text/html": [
       "<div>\n",
       "<style scoped>\n",
       "    .dataframe tbody tr th:only-of-type {\n",
       "        vertical-align: middle;\n",
       "    }\n",
       "\n",
       "    .dataframe tbody tr th {\n",
       "        vertical-align: top;\n",
       "    }\n",
       "\n",
       "    .dataframe thead th {\n",
       "        text-align: right;\n",
       "    }\n",
       "</style>\n",
       "<table border=\"1\" class=\"dataframe\">\n",
       "  <thead>\n",
       "    <tr style=\"text-align: right;\">\n",
       "      <th></th>\n",
       "      <th>PassengerId</th>\n",
       "      <th>Survived</th>\n",
       "      <th>Pclass</th>\n",
       "      <th>Name</th>\n",
       "      <th>Sex</th>\n",
       "      <th>Age</th>\n",
       "      <th>SibSp</th>\n",
       "      <th>Parch</th>\n",
       "      <th>Ticket</th>\n",
       "      <th>Fare</th>\n",
       "      <th>Cabin</th>\n",
       "      <th>Embarked</th>\n",
       "    </tr>\n",
       "  </thead>\n",
       "  <tbody>\n",
       "    <tr>\n",
       "      <th>0</th>\n",
       "      <td>1</td>\n",
       "      <td>0</td>\n",
       "      <td>3</td>\n",
       "      <td>Braund, Mr. Owen Harris</td>\n",
       "      <td>male</td>\n",
       "      <td>22.0</td>\n",
       "      <td>1</td>\n",
       "      <td>0</td>\n",
       "      <td>A/5 21171</td>\n",
       "      <td>7.2500</td>\n",
       "      <td>NaN</td>\n",
       "      <td>S</td>\n",
       "    </tr>\n",
       "    <tr>\n",
       "      <th>1</th>\n",
       "      <td>2</td>\n",
       "      <td>1</td>\n",
       "      <td>1</td>\n",
       "      <td>Cumings, Mrs. John Bradley (Florence Briggs Th...</td>\n",
       "      <td>female</td>\n",
       "      <td>38.0</td>\n",
       "      <td>1</td>\n",
       "      <td>0</td>\n",
       "      <td>PC 17599</td>\n",
       "      <td>71.2833</td>\n",
       "      <td>C85</td>\n",
       "      <td>C</td>\n",
       "    </tr>\n",
       "    <tr>\n",
       "      <th>2</th>\n",
       "      <td>3</td>\n",
       "      <td>1</td>\n",
       "      <td>3</td>\n",
       "      <td>Heikkinen, Miss. Laina</td>\n",
       "      <td>female</td>\n",
       "      <td>26.0</td>\n",
       "      <td>0</td>\n",
       "      <td>0</td>\n",
       "      <td>STON/O2. 3101282</td>\n",
       "      <td>7.9250</td>\n",
       "      <td>NaN</td>\n",
       "      <td>S</td>\n",
       "    </tr>\n",
       "    <tr>\n",
       "      <th>3</th>\n",
       "      <td>4</td>\n",
       "      <td>1</td>\n",
       "      <td>1</td>\n",
       "      <td>Futrelle, Mrs. Jacques Heath (Lily May Peel)</td>\n",
       "      <td>female</td>\n",
       "      <td>35.0</td>\n",
       "      <td>1</td>\n",
       "      <td>0</td>\n",
       "      <td>113803</td>\n",
       "      <td>53.1000</td>\n",
       "      <td>C123</td>\n",
       "      <td>S</td>\n",
       "    </tr>\n",
       "    <tr>\n",
       "      <th>4</th>\n",
       "      <td>5</td>\n",
       "      <td>0</td>\n",
       "      <td>3</td>\n",
       "      <td>Allen, Mr. William Henry</td>\n",
       "      <td>male</td>\n",
       "      <td>35.0</td>\n",
       "      <td>0</td>\n",
       "      <td>0</td>\n",
       "      <td>373450</td>\n",
       "      <td>8.0500</td>\n",
       "      <td>NaN</td>\n",
       "      <td>S</td>\n",
       "    </tr>\n",
       "  </tbody>\n",
       "</table>\n",
       "</div>"
      ],
      "text/plain": [
       "   PassengerId  Survived  Pclass  \\\n",
       "0            1         0       3   \n",
       "1            2         1       1   \n",
       "2            3         1       3   \n",
       "3            4         1       1   \n",
       "4            5         0       3   \n",
       "\n",
       "                                                Name     Sex   Age  SibSp  \\\n",
       "0                            Braund, Mr. Owen Harris    male  22.0      1   \n",
       "1  Cumings, Mrs. John Bradley (Florence Briggs Th...  female  38.0      1   \n",
       "2                             Heikkinen, Miss. Laina  female  26.0      0   \n",
       "3       Futrelle, Mrs. Jacques Heath (Lily May Peel)  female  35.0      1   \n",
       "4                           Allen, Mr. William Henry    male  35.0      0   \n",
       "\n",
       "   Parch            Ticket     Fare Cabin Embarked  \n",
       "0      0         A/5 21171   7.2500   NaN        S  \n",
       "1      0          PC 17599  71.2833   C85        C  \n",
       "2      0  STON/O2. 3101282   7.9250   NaN        S  \n",
       "3      0            113803  53.1000  C123        S  \n",
       "4      0            373450   8.0500   NaN        S  "
      ]
     },
     "execution_count": 5,
     "metadata": {},
     "output_type": "execute_result"
    }
   ],
   "source": [
    "df.head()"
   ]
  },
  {
   "cell_type": "code",
   "execution_count": 6,
   "id": "528a7921",
   "metadata": {
    "ExecuteTime": {
     "end_time": "2022-06-07T21:31:24.971758Z",
     "start_time": "2022-06-07T21:31:24.957747Z"
    }
   },
   "outputs": [],
   "source": [
    "temp = df.groupby([\"Survived\", \"Pclass\"]).PassengerId.count().reset_index(name=\"n\")\n",
    "temp = pd.merge(temp, temp.groupby(\"Survived\").n.sum().reset_index(name=\"total\"), on=\"Survived\", how=\"left\")\n",
    "temp[\"%\"] = temp[\"n\"] / temp[\"total\"]"
   ]
  },
  {
   "cell_type": "code",
   "execution_count": 7,
   "id": "38c709b4",
   "metadata": {
    "ExecuteTime": {
     "end_time": "2022-06-07T21:31:25.146140Z",
     "start_time": "2022-06-07T21:31:24.973748Z"
    }
   },
   "outputs": [
    {
     "data": {
      "image/png": "[encoded data removed]",
      "text/plain": [
       "<Figure size 432x288 with 1 Axes>"
      ]
     },
     "metadata": {
      "needs_background": "light"
     },
     "output_type": "display_data"
    }
   ],
   "source": [
    "_ = sns.barplot(x=\"Survived\", y=\"%\", hue=\"Pclass\", data=temp)"
   ]
  },
  {
   "cell_type": "code",
   "execution_count": 8,
   "id": "87d0fb15",
   "metadata": {
    "ExecuteTime": {
     "end_time": "2022-06-07T21:31:25.256091Z",
     "start_time": "2022-06-07T21:31:25.149101Z"
    }
   },
   "outputs": [
    {
     "data": {
      "image/png": "[encoded data removed]",
      "text/plain": [
       "<Figure size 432x288 with 1 Axes>"
      ]
     },
     "metadata": {
      "needs_background": "light"
     },
     "output_type": "display_data"
    }
   ],
   "source": [
    "temp = df.groupby([\"Survived\", \"Sex\"]).PassengerId.count().reset_index(name=\"n\")\n",
    "temp = pd.merge(temp, temp.groupby(\"Survived\").n.sum().reset_index(name=\"total\"), on=\"Survived\", how=\"left\")\n",
    "temp[\"%\"] = temp[\"n\"] / temp[\"total\"]\n",
    "\n",
    "_ = sns.barplot(x=\"Survived\", y=\"%\", hue=\"Sex\", data=temp)"
   ]
  },
  {
   "cell_type": "code",
   "execution_count": 9,
   "id": "8e3b4d90",
   "metadata": {
    "ExecuteTime": {
     "end_time": "2022-06-07T21:31:25.272035Z",
     "start_time": "2022-06-07T21:31:25.258031Z"
    }
   },
   "outputs": [],
   "source": [
    "df.SibSp.replace(list(range(2, 9, 1)), \"2+\", inplace=True)"
   ]
  },
  {
   "cell_type": "code",
   "execution_count": 10,
   "id": "bba0dba8",
   "metadata": {
    "ExecuteTime": {
     "end_time": "2022-06-07T21:31:25.398032Z",
     "start_time": "2022-06-07T21:31:25.277035Z"
    }
   },
   "outputs": [
    {
     "data": {
      "image/png": "[encoded data removed]",
      "text/plain": [
       "<Figure size 432x288 with 1 Axes>"
      ]
     },
     "metadata": {
      "needs_background": "light"
     },
     "output_type": "display_data"
    }
   ],
   "source": [
    "temp = df.groupby([\"Survived\", \"SibSp\"]).PassengerId.count().reset_index(name=\"n\")\n",
    "temp = pd.merge(temp, temp.groupby(\"Survived\").n.sum().reset_index(name=\"total\"), on=\"Survived\", how=\"left\")\n",
    "temp[\"%\"] = temp[\"n\"] / temp[\"total\"]\n",
    "\n",
    "_ = sns.barplot(x=\"Survived\", y=\"%\", hue=\"SibSp\", data=temp)"
   ]
  },
  {
   "cell_type": "code",
   "execution_count": 11,
   "id": "9663a6ef",
   "metadata": {
    "ExecuteTime": {
     "end_time": "2022-06-07T21:31:25.509032Z",
     "start_time": "2022-06-07T21:31:25.400032Z"
    }
   },
   "outputs": [
    {
     "data": {
      "image/png": "[encoded data removed]",
      "text/plain": [
       "<Figure size 432x288 with 1 Axes>"
      ]
     },
     "metadata": {
      "needs_background": "light"
     },
     "output_type": "display_data"
    }
   ],
   "source": [
    "df.Parch.replace(list(range(2, 9, 1)), \"2+\", inplace=True)\n",
    "\n",
    "temp = df.groupby([\"Survived\", \"Parch\"]).PassengerId.count().reset_index(name=\"n\")\n",
    "temp = pd.merge(temp, temp.groupby(\"Survived\").n.sum().reset_index(name=\"total\"), on=\"Survived\", how=\"left\")\n",
    "temp[\"%\"] = temp[\"n\"] / temp[\"total\"]\n",
    "\n",
    "_ = sns.barplot(x=\"Survived\", y=\"%\", hue=\"Parch\", data=temp)"
   ]
  },
  {
   "cell_type": "code",
   "execution_count": 12,
   "id": "2fa036ce",
   "metadata": {
    "ExecuteTime": {
     "end_time": "2022-06-07T21:31:25.588043Z",
     "start_time": "2022-06-07T21:31:25.510031Z"
    }
   },
   "outputs": [
    {
     "data": {
      "image/png": "[encoded data removed]",
      "text/plain": [
       "<Figure size 432x288 with 1 Axes>"
      ]
     },
     "metadata": {
      "needs_background": "light"
     },
     "output_type": "display_data"
    }
   ],
   "source": [
    "_ = sns.boxplot(y=\"Survived\", x=\"Fare\", data=df, orient=\"h\")"
   ]
  },
  {
   "cell_type": "code",
   "execution_count": 13,
   "id": "8526ce1e",
   "metadata": {
    "ExecuteTime": {
     "end_time": "2022-06-07T21:31:25.683032Z",
     "start_time": "2022-06-07T21:31:25.589032Z"
    }
   },
   "outputs": [
    {
     "data": {
      "image/png": "[encoded data removed]",
      "text/plain": [
       "<Figure size 432x288 with 1 Axes>"
      ]
     },
     "metadata": {
      "needs_background": "light"
     },
     "output_type": "display_data"
    }
   ],
   "source": [
    "_ = sns.boxplot(y=\"Survived\", x=\"Age\", data=df, orient=\"h\")"
   ]
  },
  {
   "cell_type": "code",
   "execution_count": 27,
   "id": "b05b92ba",
   "metadata": {
    "ExecuteTime": {
     "end_time": "2022-06-07T21:36:42.481491Z",
     "start_time": "2022-06-07T21:36:42.476494Z"
    }
   },
   "outputs": [],
   "source": [
    "df.Age.fillna(df.Age.median(), inplace=True)"
   ]
  },
  {
   "cell_type": "code",
   "execution_count": 14,
   "id": "6cdee296",
   "metadata": {
    "ExecuteTime": {
     "end_time": "2022-06-07T21:31:25.699030Z",
     "start_time": "2022-06-07T21:31:25.685032Z"
    }
   },
   "outputs": [],
   "source": [
    "class_uniques = df[\"Pclass\"].unique()\n",
    "class_cols = [\"Class_\" + str(c) for c in class_uniques]"
   ]
  },
  {
   "cell_type": "code",
   "execution_count": 15,
   "id": "9e7fdb2b",
   "metadata": {
    "ExecuteTime": {
     "end_time": "2022-06-07T21:31:25.714037Z",
     "start_time": "2022-06-07T21:31:25.700031Z"
    }
   },
   "outputs": [],
   "source": [
    "df = pd.concat((df, pd.get_dummies(df[\"Pclass\"]).rename(columns=dict(zip(class_uniques, class_cols)))), axis=1)"
   ]
  },
  {
   "cell_type": "code",
   "execution_count": 16,
   "id": "1de493f8",
   "metadata": {
    "ExecuteTime": {
     "end_time": "2022-06-07T21:31:25.730032Z",
     "start_time": "2022-06-07T21:31:25.717032Z"
    }
   },
   "outputs": [],
   "source": [
    "unique_vals = df[\"SibSp\"].unique()\n",
    "sibsp_cols = [\"SibSp_\" + str(c) for c in unique_vals]\n",
    "\n",
    "df = pd.concat((df, pd.get_dummies(df[\"SibSp\"]).rename(columns=dict(zip(unique_vals, sibsp_cols)))), axis=1)"
   ]
  },
  {
   "cell_type": "code",
   "execution_count": 17,
   "id": "bd14b1a1",
   "metadata": {
    "ExecuteTime": {
     "end_time": "2022-06-07T21:31:25.746045Z",
     "start_time": "2022-06-07T21:31:25.733033Z"
    }
   },
   "outputs": [],
   "source": [
    "unique_vals = df[\"Parch\"].unique()\n",
    "parch_cols = [\"Parch_\" + str(c) for c in unique_vals]\n",
    "\n",
    "df = pd.concat((df, pd.get_dummies(df[\"Parch\"]).rename(columns=dict(zip(unique_vals, parch_cols)))), axis=1)"
   ]
  },
  {
   "cell_type": "code",
   "execution_count": 19,
   "id": "7122c9a1",
   "metadata": {
    "ExecuteTime": {
     "end_time": "2022-06-07T21:31:29.200691Z",
     "start_time": "2022-06-07T21:31:29.181658Z"
    }
   },
   "outputs": [],
   "source": [
    "df[\"IfMale\"] = (df[\"Sex\"] == \"male\").astype(int)"
   ]
  },
  {
   "cell_type": "code",
   "execution_count": 29,
   "id": "be253794",
   "metadata": {
    "ExecuteTime": {
     "end_time": "2022-06-07T21:37:16.152695Z",
     "start_time": "2022-06-07T21:37:16.144670Z"
    }
   },
   "outputs": [],
   "source": [
    "cols = [\"IfMale\", \"Age\", \"Fare\"] + class_cols + sibsp_cols + parch_cols"
   ]
  },
  {
   "cell_type": "code",
   "execution_count": 31,
   "id": "68ea5b69",
   "metadata": {
    "ExecuteTime": {
     "end_time": "2022-06-07T21:37:23.424674Z",
     "start_time": "2022-06-07T21:37:23.404376Z"
    }
   },
   "outputs": [
    {
     "data": {
      "text/plain": [
       "False"
      ]
     },
     "execution_count": 31,
     "metadata": {},
     "output_type": "execute_result"
    }
   ],
   "source": [
    "df[cols].isna().any().any()"
   ]
  },
  {
   "cell_type": "code",
   "execution_count": 35,
   "id": "eb444e94",
   "metadata": {
    "ExecuteTime": {
     "end_time": "2022-06-07T21:38:18.343215Z",
     "start_time": "2022-06-07T21:38:18.338216Z"
    }
   },
   "outputs": [],
   "source": [
    "X = df[cols].to_numpy()\n",
    "y = df[[\"Survived\"]].to_numpy()[:, 0]"
   ]
  },
  {
   "cell_type": "code",
   "execution_count": 36,
   "id": "e044b45c",
   "metadata": {
    "ExecuteTime": {
     "end_time": "2022-06-07T21:38:19.741792Z",
     "start_time": "2022-06-07T21:38:19.735790Z"
    }
   },
   "outputs": [
    {
     "name": "stdout",
     "output_type": "stream",
     "text": [
      "(891, 12)\n",
      "(891,)\n"
     ]
    }
   ],
   "source": [
    "print(X.shape)\n",
    "print(y.shape)"
   ]
  },
  {
   "cell_type": "code",
   "execution_count": 62,
   "id": "dae7f408",
   "metadata": {
    "ExecuteTime": {
     "end_time": "2022-06-07T21:47:29.304206Z",
     "start_time": "2022-06-07T21:47:29.298206Z"
    }
   },
   "outputs": [],
   "source": [
    "stratified_kfold = StratifiedKFold(n_splits=N_CV, shuffle=True, random_state=RANDOM_STATE)"
   ]
  },
  {
   "cell_type": "code",
   "execution_count": 65,
   "id": "cfacf570",
   "metadata": {
    "ExecuteTime": {
     "end_time": "2022-06-07T21:48:18.100372Z",
     "start_time": "2022-06-07T21:48:03.389359Z"
    }
   },
   "outputs": [
    {
     "data": {
      "text/plain": [
       "{'C': 3.745401188473625, 'penalty': 'l2'}"
      ]
     },
     "execution_count": 65,
     "metadata": {},
     "output_type": "execute_result"
    }
   ],
   "source": [
    "lr = LogisticRegression(\n",
    "    solver='saga', tol=1e-3, max_iter=10000,\n",
    "    random_state=RANDOM_STATE\n",
    ")\n",
    "distributions = dict(\n",
    "    C=uniform(loc=0, scale=10),\n",
    "    penalty=['l2', 'l1']\n",
    ")\n",
    "\n",
    "clf = RandomizedSearchCV(lr, distributions, random_state=RANDOM_STATE, n_iter=N_ITER,  scoring='accuracy', cv=N_CV)\n",
    "search = clf.fit(X, y)\n",
    "search.best_params_"
   ]
  },
  {
   "cell_type": "code",
   "execution_count": 70,
   "id": "93875509",
   "metadata": {
    "ExecuteTime": {
     "end_time": "2022-06-07T21:49:55.968126Z",
     "start_time": "2022-06-07T21:49:55.856587Z"
    }
   },
   "outputs": [
    {
     "data": {
      "text/html": [
       "<style>#sk-container-id-2 {color: black;background-color: white;}#sk-container-id-2 pre{padding: 0;}#sk-container-id-2 div.sk-toggleable {background-color: white;}#sk-container-id-2 label.sk-toggleable__label {cursor: pointer;display: block;width: 100%;margin-bottom: 0;padding: 0.3em;box-sizing: border-box;text-align: center;}#sk-container-id-2 label.sk-toggleable__label-arrow:before {content: \"▸\";float: left;margin-right: 0.25em;color: #696969;}#sk-container-id-2 label.sk-toggleable__label-arrow:hover:before {color: black;}#sk-container-id-2 div.sk-estimator:hover label.sk-toggleable__label-arrow:before {color: black;}#sk-container-id-2 div.sk-toggleable__content {max-height: 0;max-width: 0;overflow: hidden;text-align: left;background-color: #f0f8ff;}#sk-container-id-2 div.sk-toggleable__content pre {margin: 0.2em;color: black;border-radius: 0.25em;background-color: #f0f8ff;}#sk-container-id-2 input.sk-toggleable__control:checked~div.sk-toggleable__content {max-height: 200px;max-width: 100%;overflow: auto;}#sk-container-id-2 input.sk-toggleable__control:checked~label.sk-toggleable__label-arrow:before {content: \"▾\";}#sk-container-id-2 div.sk-estimator input.sk-toggleable__control:checked~label.sk-toggleable__label {background-color: #d4ebff;}#sk-container-id-2 div.sk-label input.sk-toggleable__control:checked~label.sk-toggleable__label {background-color: #d4ebff;}#sk-container-id-2 input.sk-hidden--visually {border: 0;clip: rect(1px 1px 1px 1px);clip: rect(1px, 1px, 1px, 1px);height: 1px;margin: -1px;overflow: hidden;padding: 0;position: absolute;width: 1px;}#sk-container-id-2 div.sk-estimator {font-family: monospace;background-color: #f0f8ff;border: 1px dotted black;border-radius: 0.25em;box-sizing: border-box;margin-bottom: 0.5em;}#sk-container-id-2 div.sk-estimator:hover {background-color: #d4ebff;}#sk-container-id-2 div.sk-parallel-item::after {content: \"\";width: 100%;border-bottom: 1px solid gray;flex-grow: 1;}#sk-container-id-2 div.sk-label:hover label.sk-toggleable__label {background-color: #d4ebff;}#sk-container-id-2 div.sk-serial::before {content: \"\";position: absolute;border-left: 1px solid gray;box-sizing: border-box;top: 0;bottom: 0;left: 50%;z-index: 0;}#sk-container-id-2 div.sk-serial {display: flex;flex-direction: column;align-items: center;background-color: white;padding-right: 0.2em;padding-left: 0.2em;position: relative;}#sk-container-id-2 div.sk-item {position: relative;z-index: 1;}#sk-container-id-2 div.sk-parallel {display: flex;align-items: stretch;justify-content: center;background-color: white;position: relative;}#sk-container-id-2 div.sk-item::before, #sk-container-id-2 div.sk-parallel-item::before {content: \"\";position: absolute;border-left: 1px solid gray;box-sizing: border-box;top: 0;bottom: 0;left: 50%;z-index: -1;}#sk-container-id-2 div.sk-parallel-item {display: flex;flex-direction: column;z-index: 1;position: relative;background-color: white;}#sk-container-id-2 div.sk-parallel-item:first-child::after {align-self: flex-end;width: 50%;}#sk-container-id-2 div.sk-parallel-item:last-child::after {align-self: flex-start;width: 50%;}#sk-container-id-2 div.sk-parallel-item:only-child::after {width: 0;}#sk-container-id-2 div.sk-dashed-wrapped {border: 1px dashed gray;margin: 0 0.4em 0.5em 0.4em;box-sizing: border-box;padding-bottom: 0.4em;background-color: white;}#sk-container-id-2 div.sk-label label {font-family: monospace;font-weight: bold;display: inline-block;line-height: 1.2em;}#sk-container-id-2 div.sk-label-container {text-align: center;}#sk-container-id-2 div.sk-container {/* jupyter's `normalize.less` sets `[hidden] { display: none; }` but bootstrap.min.css set `[hidden] { display: none !important; }` so we also need the `!important` here to be able to override the default hidden behavior on the sphinx rendered scikit-learn.org. See: https://github.com/scikit-learn/scikit-learn/issues/21755 */display: inline-block !important;position: relative;}#sk-container-id-2 div.sk-text-repr-fallback {display: none;}</style><div id=\"sk-container-id-2\" class=\"sk-top-container\"><div class=\"sk-text-repr-fallback\"><pre>LogisticRegression(C=3.745401188473625, max_iter=10000, solver=&#x27;saga&#x27;,\n",
       "                   tol=0.001)</pre><b>In a Jupyter environment, please rerun this cell to show the HTML representation or trust the notebook. <br />On GitHub, the HTML representation is unable to render, please try loading this page with nbviewer.org.</b></div><div class=\"sk-container\" hidden><div class=\"sk-item\"><div class=\"sk-estimator sk-toggleable\"><input class=\"sk-toggleable__control sk-hidden--visually\" id=\"sk-estimator-id-4\" type=\"checkbox\" checked><label for=\"sk-estimator-id-4\" class=\"sk-toggleable__label sk-toggleable__label-arrow\">LogisticRegression</label><div class=\"sk-toggleable__content\"><pre>LogisticRegression(C=3.745401188473625, max_iter=10000, solver=&#x27;saga&#x27;,\n",
       "                   tol=0.001)</pre></div></div></div></div></div>"
      ],
      "text/plain": [
       "LogisticRegression(C=3.745401188473625, max_iter=10000, solver='saga',\n",
       "                   tol=0.001)"
      ]
     },
     "execution_count": 70,
     "metadata": {},
     "output_type": "execute_result"
    }
   ],
   "source": [
    "lr = LogisticRegression(solver='saga', tol=1e-3, max_iter=10000, **search.best_params_)\n",
    "lr.fit(X, y)"
   ]
  },
  {
   "cell_type": "code",
   "execution_count": 71,
   "id": "1f1d8766",
   "metadata": {
    "ExecuteTime": {
     "end_time": "2022-06-07T21:50:22.001146Z",
     "start_time": "2022-06-07T21:50:21.988147Z"
    }
   },
   "outputs": [],
   "source": [
    "y_pred = lr.predict(X)"
   ]
  },
  {
   "cell_type": "code",
   "execution_count": 72,
   "id": "097b1569",
   "metadata": {
    "ExecuteTime": {
     "end_time": "2022-06-07T21:50:34.435709Z",
     "start_time": "2022-06-07T21:50:34.429708Z"
    }
   },
   "outputs": [],
   "source": [
    "df[\"y_pred\"] = y_pred"
   ]
  },
  {
   "cell_type": "code",
   "execution_count": 73,
   "id": "e00fa10c",
   "metadata": {
    "ExecuteTime": {
     "end_time": "2022-06-07T21:50:58.877461Z",
     "start_time": "2022-06-07T21:50:58.861462Z"
    }
   },
   "outputs": [
    {
     "data": {
      "text/plain": [
       "0.7306397306397306"
      ]
     },
     "execution_count": 73,
     "metadata": {},
     "output_type": "execute_result"
    }
   ],
   "source": [
    "(df[\"y_pred\"] == df[\"Survived\"]).mean()"
   ]
  },
  {
   "cell_type": "code",
   "execution_count": null,
   "id": "74cef672",
   "metadata": {},
   "outputs": [],
   "source": []
  },
  {
   "cell_type": "code",
   "execution_count": null,
   "id": "8982f55d",
   "metadata": {},
   "outputs": [],
   "source": []
  },
  {
   "cell_type": "code",
   "execution_count": null,
   "id": "897ca31b",
   "metadata": {},
   "outputs": [],
   "source": []
  },
  {
   "cell_type": "code",
   "execution_count": null,
   "id": "605073de",
   "metadata": {},
   "outputs": [],
   "source": []
  }
 ],
 "metadata": {
  "kernelspec": {
   "display_name": "titanic",
   "language": "python",
   "name": "titanic"
  },
  "language_info": {
   "codemirror_mode": {
    "name": "ipython",
    "version": 3
   },
   "file_extension": ".py",
   "mimetype": "text/x-python",
   "name": "python",
   "nbconvert_exporter": "python",
   "pygments_lexer": "ipython3",
   "version": "3.9.5"
  },
  "toc": {
   "base_numbering": 1,
   "nav_menu": {},
   "number_sections": true,
   "sideBar": true,
   "skip_h1_title": false,
   "title_cell": "Table of Contents",
   "title_sidebar": "Contents",
   "toc_cell": false,
   "toc_position": {},
   "toc_section_display": true,
   "toc_window_display": false
  },
  "varInspector": {
   "cols": {
    "lenName": 16,
    "lenType": 16,
    "lenVar": 40
   },
   "kernels_config": {
    "python": {
     "delete_cmd_postfix": "",
     "delete_cmd_prefix": "del ",
     "library": "var_list.py",
     "varRefreshCmd": "print(var_dic_list())"
    },
    "r": {
     "delete_cmd_postfix": ") ",
     "delete_cmd_prefix": "rm(",
     "library": "var_list.r",
     "varRefreshCmd": "cat(var_dic_list()) "
    }
   },
   "types_to_exclude": [
    "module",
    "function",
    "builtin_function_or_method",
    "instance",
    "_Feature"
   ],
   "window_display": false
  }
 },
 "nbformat": 4,
 "nbformat_minor": 5
}
