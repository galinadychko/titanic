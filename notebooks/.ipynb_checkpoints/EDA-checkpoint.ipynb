{
 "cells": [
  {
   "cell_type": "code",
   "execution_count": 1,
   "id": "f1b749bb",
   "metadata": {
    "ExecuteTime": {
     "end_time": "2022-06-27T21:23:09.762355Z",
     "start_time": "2022-06-27T21:23:07.654355Z"
    }
   },
   "outputs": [],
   "source": [
    "import os\n",
    "import sys\n",
    "\n",
    "import numpy as np\n",
    "import pandas as pd\n",
    "\n",
    "from sklearn.ensemble import RandomForestClassifier\n",
    "from sklearn.model_selection import RandomizedSearchCV, StratifiedKFold, train_test_split\n",
    "from sklearn.metrics import accuracy_score, precision_score, recall_score, roc_curve, roc_auc_score, auc, precision_recall_curve\n",
    "\n",
    "from scipy.stats import randint\n",
    "\n",
    "import seaborn as sns\n",
    "import matplotlib.pyplot as plt"
   ]
  },
  {
   "cell_type": "markdown",
   "id": "80b0e4c1",
   "metadata": {},
   "source": [
    "# Constants"
   ]
  },
  {
   "cell_type": "code",
   "execution_count": 2,
   "id": "b4b559ad",
   "metadata": {
    "ExecuteTime": {
     "end_time": "2022-06-27T21:23:09.778355Z",
     "start_time": "2022-06-27T21:23:09.763355Z"
    }
   },
   "outputs": [],
   "source": [
    "RANDOM_STATE = 42 # to get the same random values with different .ipynb sessions\n",
    "N_ITER = 5 # number of iterations while searching hyperparameters of the model\n",
    "N_CV = 5 # number of folds in crossvalidation"
   ]
  },
  {
   "cell_type": "code",
   "execution_count": 3,
   "id": "a0155873",
   "metadata": {
    "ExecuteTime": {
     "end_time": "2022-06-27T21:23:09.794355Z",
     "start_time": "2022-06-27T21:23:09.780356Z"
    }
   },
   "outputs": [],
   "source": [
    "PROJECT_PATH = os.getcwd() # get current working directory\n",
    "PROJECT_PATH = os.path.join(PROJECT_PATH, \"..\") # go to higher folder \n",
    "\n",
    "DATA_PATH = os.path.join(PROJECT_PATH, \"data\") # define path to the data\n",
    "MODELS_PATH = os.path.join(PROJECT_PATH, \"models\") # define path to the models"
   ]
  },
  {
   "cell_type": "code",
   "execution_count": 4,
   "id": "50c872ff",
   "metadata": {
    "ExecuteTime": {
     "end_time": "2022-06-27T21:23:09.809355Z",
     "start_time": "2022-06-27T21:23:09.796357Z"
    }
   },
   "outputs": [],
   "source": [
    "sys.path.append(PROJECT_PATH) # add higher direcotory to load self-written metrics\n",
    "from tools.metrics import * "
   ]
  },
  {
   "cell_type": "code",
   "execution_count": 5,
   "id": "8da34501",
   "metadata": {
    "ExecuteTime": {
     "end_time": "2022-06-27T21:23:09.824356Z",
     "start_time": "2022-06-27T21:23:09.810355Z"
    }
   },
   "outputs": [],
   "source": [
    "if not os.path.isdir(MODELS_PATH): # create a folder for models, if it doesn't exist \n",
    "    os.makedirs(MODELS_PATH)"
   ]
  },
  {
   "cell_type": "markdown",
   "id": "9185231f",
   "metadata": {},
   "source": [
    "# Read Data"
   ]
  },
  {
   "cell_type": "code",
   "execution_count": 6,
   "id": "e4a7b327",
   "metadata": {
    "ExecuteTime": {
     "end_time": "2022-06-27T21:23:09.840355Z",
     "start_time": "2022-06-27T21:23:09.826357Z"
    }
   },
   "outputs": [],
   "source": [
    "df = pd.read_csv(os.path.join(DATA_PATH, \"train.csv\"))"
   ]
  },
  {
   "cell_type": "code",
   "execution_count": 7,
   "id": "3f293536",
   "metadata": {
    "ExecuteTime": {
     "end_time": "2022-06-27T21:23:09.872359Z",
     "start_time": "2022-06-27T21:23:09.841359Z"
    }
   },
   "outputs": [
    {
     "data": {
      "text/html": [
       "<div>\n",
       "<style scoped>\n",
       "    .dataframe tbody tr th:only-of-type {\n",
       "        vertical-align: middle;\n",
       "    }\n",
       "\n",
       "    .dataframe tbody tr th {\n",
       "        vertical-align: top;\n",
       "    }\n",
       "\n",
       "    .dataframe thead th {\n",
       "        text-align: right;\n",
       "    }\n",
       "</style>\n",
       "<table border=\"1\" class=\"dataframe\">\n",
       "  <thead>\n",
       "    <tr style=\"text-align: right;\">\n",
       "      <th></th>\n",
       "      <th>PassengerId</th>\n",
       "      <th>Survived</th>\n",
       "      <th>Pclass</th>\n",
       "      <th>Name</th>\n",
       "      <th>Sex</th>\n",
       "      <th>Age</th>\n",
       "      <th>SibSp</th>\n",
       "      <th>Parch</th>\n",
       "      <th>Ticket</th>\n",
       "      <th>Fare</th>\n",
       "      <th>Cabin</th>\n",
       "      <th>Embarked</th>\n",
       "    </tr>\n",
       "  </thead>\n",
       "  <tbody>\n",
       "    <tr>\n",
       "      <th>0</th>\n",
       "      <td>1</td>\n",
       "      <td>0</td>\n",
       "      <td>3</td>\n",
       "      <td>Braund, Mr. Owen Harris</td>\n",
       "      <td>male</td>\n",
       "      <td>22.0</td>\n",
       "      <td>1</td>\n",
       "      <td>0</td>\n",
       "      <td>A/5 21171</td>\n",
       "      <td>7.2500</td>\n",
       "      <td>NaN</td>\n",
       "      <td>S</td>\n",
       "    </tr>\n",
       "    <tr>\n",
       "      <th>1</th>\n",
       "      <td>2</td>\n",
       "      <td>1</td>\n",
       "      <td>1</td>\n",
       "      <td>Cumings, Mrs. John Bradley (Florence Briggs Th...</td>\n",
       "      <td>female</td>\n",
       "      <td>38.0</td>\n",
       "      <td>1</td>\n",
       "      <td>0</td>\n",
       "      <td>PC 17599</td>\n",
       "      <td>71.2833</td>\n",
       "      <td>C85</td>\n",
       "      <td>C</td>\n",
       "    </tr>\n",
       "    <tr>\n",
       "      <th>2</th>\n",
       "      <td>3</td>\n",
       "      <td>1</td>\n",
       "      <td>3</td>\n",
       "      <td>Heikkinen, Miss. Laina</td>\n",
       "      <td>female</td>\n",
       "      <td>26.0</td>\n",
       "      <td>0</td>\n",
       "      <td>0</td>\n",
       "      <td>STON/O2. 3101282</td>\n",
       "      <td>7.9250</td>\n",
       "      <td>NaN</td>\n",
       "      <td>S</td>\n",
       "    </tr>\n",
       "    <tr>\n",
       "      <th>3</th>\n",
       "      <td>4</td>\n",
       "      <td>1</td>\n",
       "      <td>1</td>\n",
       "      <td>Futrelle, Mrs. Jacques Heath (Lily May Peel)</td>\n",
       "      <td>female</td>\n",
       "      <td>35.0</td>\n",
       "      <td>1</td>\n",
       "      <td>0</td>\n",
       "      <td>113803</td>\n",
       "      <td>53.1000</td>\n",
       "      <td>C123</td>\n",
       "      <td>S</td>\n",
       "    </tr>\n",
       "    <tr>\n",
       "      <th>4</th>\n",
       "      <td>5</td>\n",
       "      <td>0</td>\n",
       "      <td>3</td>\n",
       "      <td>Allen, Mr. William Henry</td>\n",
       "      <td>male</td>\n",
       "      <td>35.0</td>\n",
       "      <td>0</td>\n",
       "      <td>0</td>\n",
       "      <td>373450</td>\n",
       "      <td>8.0500</td>\n",
       "      <td>NaN</td>\n",
       "      <td>S</td>\n",
       "    </tr>\n",
       "  </tbody>\n",
       "</table>\n",
       "</div>"
      ],
      "text/plain": [
       "   PassengerId  Survived  Pclass  \\\n",
       "0            1         0       3   \n",
       "1            2         1       1   \n",
       "2            3         1       3   \n",
       "3            4         1       1   \n",
       "4            5         0       3   \n",
       "\n",
       "                                                Name     Sex   Age  SibSp  \\\n",
       "0                            Braund, Mr. Owen Harris    male  22.0      1   \n",
       "1  Cumings, Mrs. John Bradley (Florence Briggs Th...  female  38.0      1   \n",
       "2                             Heikkinen, Miss. Laina  female  26.0      0   \n",
       "3       Futrelle, Mrs. Jacques Heath (Lily May Peel)  female  35.0      1   \n",
       "4                           Allen, Mr. William Henry    male  35.0      0   \n",
       "\n",
       "   Parch            Ticket     Fare Cabin Embarked  \n",
       "0      0         A/5 21171   7.2500   NaN        S  \n",
       "1      0          PC 17599  71.2833   C85        C  \n",
       "2      0  STON/O2. 3101282   7.9250   NaN        S  \n",
       "3      0            113803  53.1000  C123        S  \n",
       "4      0            373450   8.0500   NaN        S  "
      ]
     },
     "execution_count": 7,
     "metadata": {},
     "output_type": "execute_result"
    }
   ],
   "source": [
    "df.head()"
   ]
  },
  {
   "cell_type": "code",
   "execution_count": 8,
   "id": "2af38ee4",
   "metadata": {
    "ExecuteTime": {
     "end_time": "2022-06-27T21:23:09.887358Z",
     "start_time": "2022-06-27T21:23:09.874357Z"
    }
   },
   "outputs": [
    {
     "name": "stdout",
     "output_type": "stream",
     "text": [
      "Target distribution:\n"
     ]
    },
    {
     "data": {
      "text/plain": [
       "0    0.616162\n",
       "1    0.383838\n",
       "Name: Survived, dtype: float64"
      ]
     },
     "execution_count": 8,
     "metadata": {},
     "output_type": "execute_result"
    }
   ],
   "source": [
    "print(\"Target distribution:\")\n",
    "df.Survived.value_counts(normalize=True)"
   ]
  },
  {
   "cell_type": "markdown",
   "id": "a447fe2d",
   "metadata": {},
   "source": [
    "# EDA"
   ]
  },
  {
   "cell_type": "code",
   "execution_count": 9,
   "id": "4b317d0f",
   "metadata": {
    "ExecuteTime": {
     "end_time": "2022-06-27T21:23:09.903356Z",
     "start_time": "2022-06-27T21:23:09.889357Z"
    }
   },
   "outputs": [],
   "source": [
    "# define list of columns to train model\n",
    "COLS_TO_TRAIN = []"
   ]
  },
  {
   "cell_type": "markdown",
   "id": "0b915604",
   "metadata": {},
   "source": [
    "## Pclass"
   ]
  },
  {
   "cell_type": "code",
   "execution_count": 10,
   "id": "528a7921",
   "metadata": {
    "ExecuteTime": {
     "end_time": "2022-06-27T21:23:09.966357Z",
     "start_time": "2022-06-27T21:23:09.906356Z"
    }
   },
   "outputs": [],
   "source": [
    "# compute distribution per target \n",
    "temp = df.groupby([\"Survived\", \"Pclass\"]).PassengerId.count().reset_index(name=\"n\")\n",
    "temp = pd.merge(temp, temp.groupby(\"Survived\").n.sum().reset_index(name=\"total\"), on=\"Survived\", how=\"left\")\n",
    "temp[\"%\"] = temp[\"n\"] * 100 / temp[\"total\"]"
   ]
  },
  {
   "cell_type": "code",
   "execution_count": 11,
   "id": "38c709b4",
   "metadata": {
    "ExecuteTime": {
     "end_time": "2022-06-27T21:23:10.108356Z",
     "start_time": "2022-06-27T21:23:09.968360Z"
    }
   },
   "outputs": [
    {
     "data": {
      "image/png": "[encoded data removed]",
      "text/plain": [
       "<Figure size 1440x360 with 1 Axes>"
      ]
     },
     "metadata": {
      "needs_background": "light"
     },
     "output_type": "display_data"
    }
   ],
   "source": [
    "_ = plt.figure(figsize=(20, 5))\n",
    "_ = sns.barplot(x=\"Survived\", y=\"%\", hue=\"Pclass\", data=temp)\n",
    "_ = plt.title(\"Distribution of `Pclass` by target\", fontsize=20)\n",
    "_ = plt.xlabel(\"Survived\", fontsize=15)\n",
    "_ = plt.ylabel(\"%\", fontsize=15)"
   ]
  },
  {
   "cell_type": "code",
   "execution_count": 12,
   "id": "626b24d9",
   "metadata": {
    "ExecuteTime": {
     "end_time": "2022-06-27T21:23:10.124358Z",
     "start_time": "2022-06-27T21:23:10.110358Z"
    }
   },
   "outputs": [],
   "source": [
    "# this column is categorical, so it should be transformed using one-hot encoding before further usage\n",
    "# there are only 3 unique values of the feature. \n",
    "# If we know e.g. that one didn't have a 1st and 2nd class ticket, it means, that one was from the 3d class.\n",
    "# So we can remove one encoded column.\n",
    "# more details about one hot encoding: https://en.wikipedia.org/wiki/One-hot\n",
    "\n",
    "class_uniques = df[\"Pclass\"].unique()[:-1]\n",
    "class_cols = [\"Pclass_\" + str(c) for c in class_uniques]\n",
    "COLS_TO_TRAIN += class_cols"
   ]
  },
  {
   "cell_type": "code",
   "execution_count": 13,
   "id": "e94b0323",
   "metadata": {
    "ExecuteTime": {
     "end_time": "2022-06-27T21:23:10.139783Z",
     "start_time": "2022-06-27T21:23:10.125351Z"
    }
   },
   "outputs": [],
   "source": [
    "df_dummy = pd.get_dummies(df[\"Pclass\"], prefix=\"Pclass\")\n",
    "df = pd.concat((df, df_dummy[class_cols]), axis=1)"
   ]
  },
  {
   "cell_type": "markdown",
   "id": "35b84e71",
   "metadata": {},
   "source": [
    "## Sex"
   ]
  },
  {
   "cell_type": "code",
   "execution_count": 14,
   "id": "87d0fb15",
   "metadata": {
    "ExecuteTime": {
     "end_time": "2022-06-27T21:23:10.155854Z",
     "start_time": "2022-06-27T21:23:10.140774Z"
    }
   },
   "outputs": [],
   "source": [
    "temp = df.groupby([\"Survived\", \"Sex\"]).PassengerId.count().reset_index(name=\"n\")\n",
    "temp = pd.merge(temp, temp.groupby(\"Survived\").n.sum().reset_index(name=\"total\"), on=\"Survived\", how=\"left\")\n",
    "temp[\"%\"] = round(temp[\"n\"] * 100 / temp[\"total\"], 2)"
   ]
  },
  {
   "cell_type": "code",
   "execution_count": 15,
   "id": "822e16cf",
   "metadata": {
    "ExecuteTime": {
     "end_time": "2022-06-27T21:23:10.283849Z",
     "start_time": "2022-06-27T21:23:10.156851Z"
    }
   },
   "outputs": [
    {
     "data": {
      "image/png": "[encoded data removed]",
      "text/plain": [
       "<Figure size 1440x504 with 1 Axes>"
      ]
     },
     "metadata": {
      "needs_background": "light"
     },
     "output_type": "display_data"
    }
   ],
   "source": [
    "_ = plt.figure(figsize=(20, 7))\n",
    "f = sns.barplot(x=\"Survived\", y=\"%\", hue=\"Sex\", data=temp)\n",
    "\n",
    "for container in f.containers:\n",
    "    f.bar_label(container, fontsize=15)\n",
    "\n",
    "_ = plt.title(\"Distribution of `Sex` by target\", fontsize=20)\n",
    "_ = plt.xlabel(\"Survived\", fontsize=15)\n",
    "_ = plt.ylabel(\"%\", fontsize=15)"
   ]
  },
  {
   "cell_type": "code",
   "execution_count": 16,
   "id": "9014f765",
   "metadata": {
    "ExecuteTime": {
     "end_time": "2022-06-27T21:23:10.299851Z",
     "start_time": "2022-06-27T21:23:10.285852Z"
    }
   },
   "outputs": [],
   "source": [
    "df[\"IfMale\"] = (df[\"Sex\"] == \"male\").astype(int)\n",
    "COLS_TO_TRAIN += [\"IfMale\"]"
   ]
  },
  {
   "cell_type": "markdown",
   "id": "10303e36",
   "metadata": {},
   "source": [
    "## Fare"
   ]
  },
  {
   "cell_type": "code",
   "execution_count": 17,
   "id": "2fa036ce",
   "metadata": {
    "ExecuteTime": {
     "end_time": "2022-06-27T21:23:10.395857Z",
     "start_time": "2022-06-27T21:23:10.301851Z"
    }
   },
   "outputs": [
    {
     "data": {
      "image/png": "[encoded data removed]",
      "text/plain": [
       "<Figure size 1440x360 with 1 Axes>"
      ]
     },
     "metadata": {
      "needs_background": "light"
     },
     "output_type": "display_data"
    }
   ],
   "source": [
    "# Information about boxplots: https://en.wikipedia.org/wiki/Box_plot\n",
    "_ = plt.figure(figsize=(20, 5))\n",
    "_ = sns.boxplot(y=\"Survived\", x=\"Fare\", data=df, orient=\"h\")\n",
    "_ = plt.title(\"Distribution of `Fare` by target\", fontsize=25)\n",
    "_ = plt.xlabel(\"Fare\", fontsize=15)\n",
    "_ = plt.ylabel(\"Survived\", fontsize=15)"
   ]
  },
  {
   "cell_type": "code",
   "execution_count": 18,
   "id": "ce65e389",
   "metadata": {
    "ExecuteTime": {
     "end_time": "2022-06-27T21:23:10.411865Z",
     "start_time": "2022-06-27T21:23:10.396849Z"
    }
   },
   "outputs": [],
   "source": [
    "COLS_TO_TRAIN += [\"Fare\"] "
   ]
  },
  {
   "cell_type": "markdown",
   "id": "deb73859",
   "metadata": {},
   "source": [
    "## Age"
   ]
  },
  {
   "cell_type": "code",
   "execution_count": 19,
   "id": "8526ce1e",
   "metadata": {
    "ExecuteTime": {
     "end_time": "2022-06-27T21:23:10.522851Z",
     "start_time": "2022-06-27T21:23:10.412849Z"
    }
   },
   "outputs": [
    {
     "data": {
      "image/png": "[encoded data removed]",
      "text/plain": [
       "<Figure size 1440x360 with 1 Axes>"
      ]
     },
     "metadata": {
      "needs_background": "light"
     },
     "output_type": "display_data"
    }
   ],
   "source": [
    "_ = plt.figure(figsize=(20, 5))\n",
    "_ = sns.boxplot(y=\"Survived\", x=\"Age\", data=df, orient=\"h\")\n",
    "_ = plt.title(\"Distribution of `Age` by target\", fontsize=25)\n",
    "_ = plt.xlabel(\"Age\", fontsize=15)\n",
    "_ = plt.ylabel(\"Survived\", fontsize=15)"
   ]
  },
  {
   "cell_type": "code",
   "execution_count": 20,
   "id": "90b58f3b",
   "metadata": {
    "ExecuteTime": {
     "end_time": "2022-06-27T21:23:10.538858Z",
     "start_time": "2022-06-27T21:23:10.524851Z"
    }
   },
   "outputs": [],
   "source": [
    "COLS_TO_TRAIN += [\"Age\"]"
   ]
  },
  {
   "cell_type": "code",
   "execution_count": 21,
   "id": "b05b92ba",
   "metadata": {
    "ExecuteTime": {
     "end_time": "2022-06-27T21:23:10.554859Z",
     "start_time": "2022-06-27T21:23:10.540851Z"
    }
   },
   "outputs": [],
   "source": [
    "df.Age.fillna(df.Age.median(), inplace=True)"
   ]
  },
  {
   "cell_type": "code",
   "execution_count": 22,
   "id": "68ea5b69",
   "metadata": {
    "ExecuteTime": {
     "end_time": "2022-06-27T21:23:10.570858Z",
     "start_time": "2022-06-27T21:23:10.555852Z"
    }
   },
   "outputs": [
    {
     "data": {
      "text/plain": [
       "False"
      ]
     },
     "execution_count": 22,
     "metadata": {},
     "output_type": "execute_result"
    }
   ],
   "source": [
    "df[COLS_TO_TRAIN].isna().any().any()"
   ]
  },
  {
   "cell_type": "code",
   "execution_count": 23,
   "id": "ddc3e051",
   "metadata": {
    "ExecuteTime": {
     "end_time": "2022-06-27T21:23:10.586850Z",
     "start_time": "2022-06-27T21:23:10.572851Z"
    }
   },
   "outputs": [],
   "source": [
    "df = df[COLS_TO_TRAIN + [\"Survived\"]]"
   ]
  },
  {
   "cell_type": "markdown",
   "id": "568db54d",
   "metadata": {},
   "source": [
    "# Generate train, test, inference"
   ]
  },
  {
   "cell_type": "markdown",
   "id": "87b865a1",
   "metadata": {},
   "source": [
    "Data is split into 3 parts: \n",
    "\n",
    "    - train - 80% of observations\n",
    "    \n",
    "    - test - 14% of observations\n",
    "    \n",
    "    - inference - 6% of observations\n",
    "    \n",
    "Train will be used to train a model.\n",
    "\n",
    "Test - to evaluate its performance.\n",
    "\n",
    "Inference - to compare how model performs on 'recently' received datam"
   ]
  },
  {
   "cell_type": "code",
   "execution_count": 24,
   "id": "5a6cddb2",
   "metadata": {
    "ExecuteTime": {
     "end_time": "2022-06-27T21:23:10.602941Z",
     "start_time": "2022-06-27T21:23:10.587851Z"
    }
   },
   "outputs": [],
   "source": [
    "# split into train and test, where test will contain both test, inference\n",
    "df_train, df_test = train_test_split(\n",
    "    df, train_size=0.8, random_state=RANDOM_STATE, shuffle=True\n",
    ")\n",
    "# separate test & inference\n",
    "df_test, df_inf = train_test_split(\n",
    "    df_test, train_size=0.7, random_state=RANDOM_STATE, shuffle=True\n",
    ")\n",
    "\n",
    "df_train.reset_index(drop=True, inplace=True)\n",
    "df_test.reset_index(drop=True, inplace=True)\n",
    "df_inf.reset_index(drop=True, inplace=True)"
   ]
  },
  {
   "cell_type": "code",
   "execution_count": 25,
   "id": "846031a1",
   "metadata": {
    "ExecuteTime": {
     "end_time": "2022-06-27T21:23:10.618935Z",
     "start_time": "2022-06-27T21:23:10.603936Z"
    }
   },
   "outputs": [
    {
     "name": "stdout",
     "output_type": "stream",
     "text": [
      "#observations:\n",
      "Train:  712\n",
      "Test:  125\n",
      "`Recently` come data (inference):  54\n"
     ]
    }
   ],
   "source": [
    "print(\"#observations:\")\n",
    "print(\"Train: \", df_train.shape[0])\n",
    "print(\"Test: \", df_test.shape[0])\n",
    "print(\"`Recently` come data (inference): \", df_inf.shape[0])\n",
    "\n",
    "assert df_train.shape[0] + df_test.shape[0] + df_inf.shape[0] == df.shape[0]\n",
    "del df"
   ]
  },
  {
   "cell_type": "code",
   "execution_count": 26,
   "id": "eb444e94",
   "metadata": {
    "ExecuteTime": {
     "end_time": "2022-06-27T21:23:10.634238Z",
     "start_time": "2022-06-27T21:23:10.619936Z"
    }
   },
   "outputs": [],
   "source": [
    "# transform train pandas data frame, target to numpy array\n",
    "X_train = df_train[COLS_TO_TRAIN].to_numpy()\n",
    "y_train = df_train.Survived.to_numpy()"
   ]
  },
  {
   "cell_type": "code",
   "execution_count": 27,
   "id": "6dc8b312",
   "metadata": {
    "ExecuteTime": {
     "end_time": "2022-06-27T21:23:10.650027Z",
     "start_time": "2022-06-27T21:23:10.636235Z"
    }
   },
   "outputs": [],
   "source": [
    "# save train data frame\n",
    "df_train.to_csv(os.path.join(DATA_PATH, \"train_exprmnt.csv\"))"
   ]
  },
  {
   "cell_type": "code",
   "execution_count": 28,
   "id": "e803d4e8",
   "metadata": {
    "ExecuteTime": {
     "end_time": "2022-06-27T21:23:10.665451Z",
     "start_time": "2022-06-27T21:23:10.655994Z"
    }
   },
   "outputs": [],
   "source": [
    "# transform test pandas data frame, target to numpy array\n",
    "X_test = df_test[COLS_TO_TRAIN].to_numpy()\n",
    "y_test = df_test.Survived.to_numpy()"
   ]
  },
  {
   "cell_type": "code",
   "execution_count": 29,
   "id": "56153755",
   "metadata": {
    "ExecuteTime": {
     "end_time": "2022-06-27T21:23:10.681527Z",
     "start_time": "2022-06-27T21:23:10.667446Z"
    }
   },
   "outputs": [],
   "source": [
    "# transform inference pandas data frame, target to numpy array\n",
    "X_inf = df_inf[COLS_TO_TRAIN].to_numpy()\n",
    "y_inf = df_inf.Survived.to_numpy()"
   ]
  },
  {
   "cell_type": "code",
   "execution_count": 30,
   "id": "e044b45c",
   "metadata": {
    "ExecuteTime": {
     "end_time": "2022-06-27T21:23:10.697071Z",
     "start_time": "2022-06-27T21:23:10.682533Z"
    }
   },
   "outputs": [
    {
     "name": "stdout",
     "output_type": "stream",
     "text": [
      "Check shapes of inputs to the model (train stage): \n",
      "Features:  (712, 5)\n",
      "Target:  (712,)\n"
     ]
    }
   ],
   "source": [
    "print(\"Check shapes of inputs to the model (train stage): \")\n",
    "print(\"Features: \", X_train.shape)\n",
    "print(\"Target: \", y_train.shape)"
   ]
  },
  {
   "cell_type": "code",
   "execution_count": 31,
   "id": "a83a7f3e",
   "metadata": {
    "ExecuteTime": {
     "end_time": "2022-06-27T21:23:10.713071Z",
     "start_time": "2022-06-27T21:23:10.698066Z"
    }
   },
   "outputs": [
    {
     "name": "stdout",
     "output_type": "stream",
     "text": [
      "Check shapes of inputs to the model (test stage): \n",
      "Features:  (125, 5)\n",
      "Target:  (125,)\n"
     ]
    }
   ],
   "source": [
    "print(\"Check shapes of inputs to the model (test stage): \")\n",
    "print(\"Features: \", X_test.shape)\n",
    "print(\"Target: \", y_test.shape)"
   ]
  },
  {
   "cell_type": "code",
   "execution_count": 32,
   "id": "75dd9e04",
   "metadata": {
    "ExecuteTime": {
     "end_time": "2022-06-27T21:23:10.729102Z",
     "start_time": "2022-06-27T21:23:10.714066Z"
    }
   },
   "outputs": [
    {
     "name": "stdout",
     "output_type": "stream",
     "text": [
      "Check shapes of inputs to the model (inference stage): \n",
      "Features:  (54, 5)\n",
      "Target:  (54,)\n"
     ]
    }
   ],
   "source": [
    "print(\"Check shapes of inputs to the model (inference stage): \")\n",
    "print(\"Features: \", X_inf.shape)\n",
    "print(\"Target: \", y_inf.shape)"
   ]
  },
  {
   "cell_type": "markdown",
   "id": "d450ccc7",
   "metadata": {},
   "source": [
    "# Develop a model"
   ]
  },
  {
   "cell_type": "code",
   "execution_count": 33,
   "id": "cfacf570",
   "metadata": {
    "ExecuteTime": {
     "end_time": "2022-06-27T21:23:10.902064Z",
     "start_time": "2022-06-27T21:23:10.731064Z"
    }
   },
   "outputs": [],
   "source": [
    "# More about \n",
    "# - RandomForest: \n",
    "#    -> https://en.wikipedia.org/wiki/Random_forest\n",
    "#    -> https://scikit-learn.org/stable/modules/generated/sklearn.ensemble.RandomForestClassifier.html\n",
    "# - RandomizedSearchCV:  \n",
    "#    -> https://scikit-learn.org/stable/modules/generated/sklearn.model_selection.RandomizedSearchCV.html\n",
    "# initialize Random Forest Classifier\n",
    "clf = RandomForestClassifier(\n",
    "    random_state=RANDOM_STATE, \n",
    "    class_weight=\"balanced\",\n",
    ")\n",
    "\n",
    "# initialize parameters of diftributions to run randomized search\n",
    "distributions = dict(\n",
    "    criterion=[\"gini\", \"entropy\", \"log_loss\"],\n",
    "    max_depth=randint(2, 3),\n",
    "    n_estimators=randint(2, 10),\n",
    "    min_samples_split=randint(2, 10),\n",
    "    max_features=randint(2, 5)\n",
    ")\n",
    "\n",
    "# initialize random search object\n",
    "clf = RandomizedSearchCV(clf, distributions, random_state=RANDOM_STATE, n_iter=N_ITER, cv=N_CV)\n",
    "\n",
    "# search for the optimal model's hyperparameters\n",
    "search = clf.fit(X_train, y_train)"
   ]
  },
  {
   "cell_type": "code",
   "execution_count": 34,
   "id": "af561dc6",
   "metadata": {
    "ExecuteTime": {
     "end_time": "2022-06-27T21:23:10.918069Z",
     "start_time": "2022-06-27T21:23:10.903067Z"
    }
   },
   "outputs": [
    {
     "data": {
      "text/plain": [
       "{'criterion': 'gini',\n",
       " 'max_depth': 2,\n",
       " 'max_features': 4,\n",
       " 'min_samples_split': 7,\n",
       " 'n_estimators': 6}"
      ]
     },
     "execution_count": 34,
     "metadata": {},
     "output_type": "execute_result"
    }
   ],
   "source": [
    "# optimal model's hyperparameters\n",
    "search.best_params_"
   ]
  },
  {
   "cell_type": "code",
   "execution_count": 35,
   "id": "7d8f71ff",
   "metadata": {
    "ExecuteTime": {
     "end_time": "2022-06-27T21:23:10.934066Z",
     "start_time": "2022-06-27T21:23:10.919069Z"
    }
   },
   "outputs": [],
   "source": [
    "assert search.best_score_ == search.cv_results_[\"mean_test_score\"][search.best_index_]"
   ]
  },
  {
   "cell_type": "code",
   "execution_count": 36,
   "id": "2aeefb04",
   "metadata": {
    "ExecuteTime": {
     "end_time": "2022-06-27T21:23:10.950066Z",
     "start_time": "2022-06-27T21:23:10.936068Z"
    }
   },
   "outputs": [
    {
     "name": "stdout",
     "output_type": "stream",
     "text": [
      "Mean CV score:  0.7963065103910175\n",
      "STD CV score:  0.027729921935874324\n"
     ]
    }
   ],
   "source": [
    "# best model's merformance on CV\n",
    "print(\"Mean CV score: \", search.cv_results_[\"mean_test_score\"][search.best_index_])\n",
    "print(\"STD CV score: \", search.cv_results_[\"std_test_score\"][search.best_index_])"
   ]
  },
  {
   "cell_type": "code",
   "execution_count": 37,
   "id": "9d68d853",
   "metadata": {
    "ExecuteTime": {
     "end_time": "2022-06-27T21:23:10.981100Z",
     "start_time": "2022-06-27T21:23:10.952069Z"
    }
   },
   "outputs": [
    {
     "data": {
      "text/html": [
       "<style>#sk-container-id-1 {color: black;background-color: white;}#sk-container-id-1 pre{padding: 0;}#sk-container-id-1 div.sk-toggleable {background-color: white;}#sk-container-id-1 label.sk-toggleable__label {cursor: pointer;display: block;width: 100%;margin-bottom: 0;padding: 0.3em;box-sizing: border-box;text-align: center;}#sk-container-id-1 label.sk-toggleable__label-arrow:before {content: \"▸\";float: left;margin-right: 0.25em;color: #696969;}#sk-container-id-1 label.sk-toggleable__label-arrow:hover:before {color: black;}#sk-container-id-1 div.sk-estimator:hover label.sk-toggleable__label-arrow:before {color: black;}#sk-container-id-1 div.sk-toggleable__content {max-height: 0;max-width: 0;overflow: hidden;text-align: left;background-color: #f0f8ff;}#sk-container-id-1 div.sk-toggleable__content pre {margin: 0.2em;color: black;border-radius: 0.25em;background-color: #f0f8ff;}#sk-container-id-1 input.sk-toggleable__control:checked~div.sk-toggleable__content {max-height: 200px;max-width: 100%;overflow: auto;}#sk-container-id-1 input.sk-toggleable__control:checked~label.sk-toggleable__label-arrow:before {content: \"▾\";}#sk-container-id-1 div.sk-estimator input.sk-toggleable__control:checked~label.sk-toggleable__label {background-color: #d4ebff;}#sk-container-id-1 div.sk-label input.sk-toggleable__control:checked~label.sk-toggleable__label {background-color: #d4ebff;}#sk-container-id-1 input.sk-hidden--visually {border: 0;clip: rect(1px 1px 1px 1px);clip: rect(1px, 1px, 1px, 1px);height: 1px;margin: -1px;overflow: hidden;padding: 0;position: absolute;width: 1px;}#sk-container-id-1 div.sk-estimator {font-family: monospace;background-color: #f0f8ff;border: 1px dotted black;border-radius: 0.25em;box-sizing: border-box;margin-bottom: 0.5em;}#sk-container-id-1 div.sk-estimator:hover {background-color: #d4ebff;}#sk-container-id-1 div.sk-parallel-item::after {content: \"\";width: 100%;border-bottom: 1px solid gray;flex-grow: 1;}#sk-container-id-1 div.sk-label:hover label.sk-toggleable__label {background-color: #d4ebff;}#sk-container-id-1 div.sk-serial::before {content: \"\";position: absolute;border-left: 1px solid gray;box-sizing: border-box;top: 0;bottom: 0;left: 50%;z-index: 0;}#sk-container-id-1 div.sk-serial {display: flex;flex-direction: column;align-items: center;background-color: white;padding-right: 0.2em;padding-left: 0.2em;position: relative;}#sk-container-id-1 div.sk-item {position: relative;z-index: 1;}#sk-container-id-1 div.sk-parallel {display: flex;align-items: stretch;justify-content: center;background-color: white;position: relative;}#sk-container-id-1 div.sk-item::before, #sk-container-id-1 div.sk-parallel-item::before {content: \"\";position: absolute;border-left: 1px solid gray;box-sizing: border-box;top: 0;bottom: 0;left: 50%;z-index: -1;}#sk-container-id-1 div.sk-parallel-item {display: flex;flex-direction: column;z-index: 1;position: relative;background-color: white;}#sk-container-id-1 div.sk-parallel-item:first-child::after {align-self: flex-end;width: 50%;}#sk-container-id-1 div.sk-parallel-item:last-child::after {align-self: flex-start;width: 50%;}#sk-container-id-1 div.sk-parallel-item:only-child::after {width: 0;}#sk-container-id-1 div.sk-dashed-wrapped {border: 1px dashed gray;margin: 0 0.4em 0.5em 0.4em;box-sizing: border-box;padding-bottom: 0.4em;background-color: white;}#sk-container-id-1 div.sk-label label {font-family: monospace;font-weight: bold;display: inline-block;line-height: 1.2em;}#sk-container-id-1 div.sk-label-container {text-align: center;}#sk-container-id-1 div.sk-container {/* jupyter's `normalize.less` sets `[hidden] { display: none; }` but bootstrap.min.css set `[hidden] { display: none !important; }` so we also need the `!important` here to be able to override the default hidden behavior on the sphinx rendered scikit-learn.org. See: https://github.com/scikit-learn/scikit-learn/issues/21755 */display: inline-block !important;position: relative;}#sk-container-id-1 div.sk-text-repr-fallback {display: none;}</style><div id=\"sk-container-id-1\" class=\"sk-top-container\"><div class=\"sk-text-repr-fallback\"><pre>RandomForestClassifier(class_weight=&#x27;balanced&#x27;, max_depth=2, max_features=4,\n",
       "                       min_samples_split=7, n_estimators=6, random_state=42)</pre><b>In a Jupyter environment, please rerun this cell to show the HTML representation or trust the notebook. <br />On GitHub, the HTML representation is unable to render, please try loading this page with nbviewer.org.</b></div><div class=\"sk-container\" hidden><div class=\"sk-item\"><div class=\"sk-estimator sk-toggleable\"><input class=\"sk-toggleable__control sk-hidden--visually\" id=\"sk-estimator-id-1\" type=\"checkbox\" checked><label for=\"sk-estimator-id-1\" class=\"sk-toggleable__label sk-toggleable__label-arrow\">RandomForestClassifier</label><div class=\"sk-toggleable__content\"><pre>RandomForestClassifier(class_weight=&#x27;balanced&#x27;, max_depth=2, max_features=4,\n",
       "                       min_samples_split=7, n_estimators=6, random_state=42)</pre></div></div></div></div></div>"
      ],
      "text/plain": [
       "RandomForestClassifier(class_weight='balanced', max_depth=2, max_features=4,\n",
       "                       min_samples_split=7, n_estimators=6, random_state=42)"
      ]
     },
     "execution_count": 37,
     "metadata": {},
     "output_type": "execute_result"
    }
   ],
   "source": [
    "# initialize Random Forest with the optimal hyperparameters\n",
    "clf = RandomForestClassifier(\n",
    "    random_state=RANDOM_STATE, \n",
    "    class_weight=\"balanced\", \n",
    "    **search.best_params_\n",
    ")\n",
    "# train it\n",
    "clf.fit(X_train, y_train)"
   ]
  },
  {
   "cell_type": "code",
   "execution_count": 38,
   "id": "1f1d8766",
   "metadata": {
    "ExecuteTime": {
     "end_time": "2022-06-27T21:23:10.997064Z",
     "start_time": "2022-06-27T21:23:10.983067Z"
    }
   },
   "outputs": [],
   "source": [
    "# make predictions for test\n",
    "df_test[\"y_prob\"] = clf.predict_proba(X_test)[:, 1]\n",
    "df_test[\"y_pred\"] = (df_test[\"y_prob\"] >= 0.5).astype(int)\n",
    "df_test[\"DataPart\"] =\"Benchmark\""
   ]
  },
  {
   "cell_type": "code",
   "execution_count": 39,
   "id": "53a50dad",
   "metadata": {
    "ExecuteTime": {
     "end_time": "2022-06-27T21:23:11.012064Z",
     "start_time": "2022-06-27T21:23:10.998067Z"
    }
   },
   "outputs": [],
   "source": [
    "# make predictions for inference\n",
    "df_inf[\"y_prob\"] = clf.predict_proba(X_inf)[:, 1]\n",
    "df_inf[\"y_pred\"] = (df_inf[\"y_prob\"] >= 0.5).astype(int)\n",
    "df_inf[\"DataPart\"] =\"Inference\"\n",
    "\n",
    "# concatenate test & inference andd save it as a separate file\n",
    "df_test_inf = pd.concat((df_inf, df_test), axis=0)\n",
    "df_test_inf.reset_index(drop=True, inplace=True)\n",
    "df_test_inf.to_csv(os.path.join(DATA_PATH, \"test_exprmnt.csv\"))"
   ]
  },
  {
   "cell_type": "code",
   "execution_count": 40,
   "id": "8353e0de",
   "metadata": {
    "ExecuteTime": {
     "end_time": "2022-06-27T21:23:11.028065Z",
     "start_time": "2022-06-27T21:23:11.014068Z"
    }
   },
   "outputs": [],
   "source": [
    "# generate random subsample from test & inference dataset just to test a streamlit feature\n",
    "np.random.seed(RANDOM_STATE)\n",
    "indx = np.random.choice(df_test_inf.index, size=50, replace=False)\n",
    "df_test_inf = df_test_inf.iloc[indx, :]\n",
    "df_test_inf.to_csv(os.path.join(DATA_PATH, \"test_exprmnt_2.csv\"))"
   ]
  },
  {
   "cell_type": "markdown",
   "id": "647932f1",
   "metadata": {},
   "source": [
    "# Metrics"
   ]
  },
  {
   "cell_type": "markdown",
   "id": "576836a0",
   "metadata": {},
   "source": [
    "**Accuracy** is a metric that generally describes how the model performs across all classes. More about accuracy metric: [link](https://en.wikipedia.org/wiki/Accuracy_and_precision)\n",
    "\n",
    "$$Accuracy = \\frac{correct\\ classifications}{all\\ classifications}$$\n",
    "\n"
   ]
  },
  {
   "cell_type": "markdown",
   "id": "e76ad8a4",
   "metadata": {
    "ExecuteTime": {
     "end_time": "2022-06-27T22:07:11.670190Z",
     "start_time": "2022-06-27T22:07:11.655190Z"
    }
   },
   "source": [
    "The below definitions are needed to describe the next metrics."
   ]
  },
  {
   "cell_type": "markdown",
   "id": "8d8f912f",
   "metadata": {
    "ExecuteTime": {
     "end_time": "2022-06-27T22:06:42.639198Z",
     "start_time": "2022-06-27T22:06:42.574075Z"
    }
   },
   "source": [
    "![alt text](confusion_matrix.png \"Title\")\n"
   ]
  },
  {
   "cell_type": "markdown",
   "id": "b0c9a092",
   "metadata": {
    "ExecuteTime": {
     "end_time": "2022-06-27T22:07:19.947011Z",
     "start_time": "2022-06-27T22:07:19.938012Z"
    }
   },
   "source": [
    "**Precision** attempts to answer the following question: What proportion of positive identifications was actually correct?\n",
    "$$Precision = \\frac{tp}{tp + fp}$$"
   ]
  },
  {
   "cell_type": "markdown",
   "id": "eef4c27b",
   "metadata": {},
   "source": [
    "**Recall** attempts to answer the following question: What proportion of actual positives was identified correctly?\n",
    "\n",
    "$$Recall = \\frac{tp}{tp + fn}$$"
   ]
  },
  {
   "attachments": {},
   "cell_type": "markdown",
   "id": "7a004728",
   "metadata": {},
   "source": [
    "More about precision & recall metrics: [link](https://en.wikipedia.org/wiki/Precision_and_recall)"
   ]
  },
  {
   "cell_type": "markdown",
   "id": "773767ba",
   "metadata": {},
   "source": [
    "**Receiver operating characteristic curve (ROC curve)**, is a graphical plot that illustrates the diagnostic ability of a binary classifier system as its discrimination threshold is varied. Additional details can be found: [link](https://en.wikipedia.org/wiki/Receiver_operating_characteristic)"
   ]
  },
  {
   "cell_type": "markdown",
   "id": "d0144410",
   "metadata": {},
   "source": [
    "**ROC AUC** - the area under the ROC curve is equal to the probability that a classifier will rank a randomly chosen positive instance higher than a randomly chosen negative one (assuming 'positive' ranks higher than 'negative'). Details by [link](https://en.wikipedia.org/wiki/Receiver_operating_characteristic)"
   ]
  },
  {
   "cell_type": "markdown",
   "id": "a95baecb",
   "metadata": {
    "ExecuteTime": {
     "end_time": "2022-06-27T22:16:42.954775Z",
     "start_time": "2022-06-27T22:16:42.934775Z"
    }
   },
   "source": [
    "The **precision-recall curve** shows the tradeoff between precision and recall for different threshold. More information by [link](https://scikit-learn.org/stable/auto_examples/model_selection/plot_precision_recall.html#:~:text=The%20precision%2Drecall%20curve%20shows,a%20low%20false%20negative%20rate.)"
   ]
  },
  {
   "cell_type": "markdown",
   "id": "9d849697",
   "metadata": {
    "ExecuteTime": {
     "end_time": "2022-06-27T22:19:38.879597Z",
     "start_time": "2022-06-27T22:19:38.866597Z"
    }
   },
   "source": [
    "**Precision-Recall AUC** - area under the precision-recall curve. More details by [link](https://machinelearningmastery.com/roc-curves-and-precision-recall-curves-for-classification-in-python/)"
   ]
  },
  {
   "cell_type": "markdown",
   "id": "2d80b3d6",
   "metadata": {},
   "source": [
    "## Test"
   ]
  },
  {
   "cell_type": "markdown",
   "id": "251a0979",
   "metadata": {},
   "source": [
    "### Accuracy, Precision, Recall, ROC AUC, Precision Recall AUC"
   ]
  },
  {
   "cell_type": "code",
   "execution_count": 42,
   "id": "897ca31b",
   "metadata": {
    "ExecuteTime": {
     "end_time": "2022-06-27T21:23:11.059067Z",
     "start_time": "2022-06-27T21:23:11.045067Z"
    }
   },
   "outputs": [],
   "source": [
    "# compute metrics on test data\n",
    "accuracy_value = accuracy_score(df_test[\"Survived\"] , df_test[\"y_pred\"])\n",
    "precision_value = precision_score(df_test[\"Survived\"] , df_test[\"y_pred\"])\n",
    "recall_value = recall_score(df_test[\"Survived\"] , df_test[\"y_pred\"])\n",
    "roc_auc_value = roc_auc_score(df_test[\"Survived\"] , df_test[\"y_pred\"])\n",
    "\n",
    "\n",
    "precision_list, recall_list, _ = precision_recall_curve(df_test[\"Survived\"] , df_test[\"y_prob\"])\n",
    "prec_recall_auc = auc(recall_list, precision_list)\n",
    "\n",
    "# combie them into one data frame for further manipulations\n",
    "df_metrics_benchmark = pd.DataFrame.from_dict(\n",
    "    {\n",
    "        \"Accuracy\": round(accuracy_value, 3),\n",
    "        \"Precision\": round(precision_value, 3),\n",
    "        \"Recall\": round(recall_value, 3),\n",
    "        \"PR AUC\": round(prec_recall_auc, 3),\n",
    "        \"ROC AUC\": round(roc_auc_value, 3)\n",
    "    }, \n",
    "    orient=\"index\", \n",
    "    columns=[\"Benchmark\"]\n",
    ")"
   ]
  },
  {
   "cell_type": "code",
   "execution_count": 43,
   "id": "636e6fd8",
   "metadata": {
    "ExecuteTime": {
     "end_time": "2022-06-27T21:23:11.074066Z",
     "start_time": "2022-06-27T21:23:11.061065Z"
    }
   },
   "outputs": [
    {
     "data": {
      "text/html": [
       "<div>\n",
       "<style scoped>\n",
       "    .dataframe tbody tr th:only-of-type {\n",
       "        vertical-align: middle;\n",
       "    }\n",
       "\n",
       "    .dataframe tbody tr th {\n",
       "        vertical-align: top;\n",
       "    }\n",
       "\n",
       "    .dataframe thead th {\n",
       "        text-align: right;\n",
       "    }\n",
       "</style>\n",
       "<table border=\"1\" class=\"dataframe\">\n",
       "  <thead>\n",
       "    <tr style=\"text-align: right;\">\n",
       "      <th></th>\n",
       "      <th>Benchmark</th>\n",
       "    </tr>\n",
       "  </thead>\n",
       "  <tbody>\n",
       "    <tr>\n",
       "      <th>Accuracy</th>\n",
       "      <td>0.784</td>\n",
       "    </tr>\n",
       "    <tr>\n",
       "      <th>Precision</th>\n",
       "      <td>0.816</td>\n",
       "    </tr>\n",
       "    <tr>\n",
       "      <th>Recall</th>\n",
       "      <td>0.690</td>\n",
       "    </tr>\n",
       "    <tr>\n",
       "      <th>PR AUC</th>\n",
       "      <td>0.877</td>\n",
       "    </tr>\n",
       "    <tr>\n",
       "      <th>ROC AUC</th>\n",
       "      <td>0.778</td>\n",
       "    </tr>\n",
       "  </tbody>\n",
       "</table>\n",
       "</div>"
      ],
      "text/plain": [
       "           Benchmark\n",
       "Accuracy       0.784\n",
       "Precision      0.816\n",
       "Recall         0.690\n",
       "PR AUC         0.877\n",
       "ROC AUC        0.778"
      ]
     },
     "execution_count": 43,
     "metadata": {},
     "output_type": "execute_result"
    }
   ],
   "source": [
    "df_metrics_benchmark"
   ]
  },
  {
   "cell_type": "markdown",
   "id": "4329e8b5",
   "metadata": {},
   "source": [
    "### Precision Recall Curve, AUC"
   ]
  },
  {
   "cell_type": "code",
   "execution_count": 44,
   "id": "7ba1efb3",
   "metadata": {
    "ExecuteTime": {
     "end_time": "2022-06-27T21:23:11.090068Z",
     "start_time": "2022-06-27T21:23:11.076067Z"
    }
   },
   "outputs": [],
   "source": [
    "# put precision, recall values per threshold to a data frame for further plotting them as Precision Recall Curve\n",
    "df_pr_rc_benchmark = pd.DataFrame.from_dict(\n",
    "    {\n",
    "        \"Precision\": precision_list,\n",
    "        \"Recall\": recall_list\n",
    "    }\n",
    ")\n",
    "df_pr_rc_benchmark[\"Data\"] = \"Benchmark\""
   ]
  },
  {
   "cell_type": "code",
   "execution_count": 45,
   "id": "915e6a6c",
   "metadata": {
    "ExecuteTime": {
     "end_time": "2022-06-27T21:23:11.106066Z",
     "start_time": "2022-06-27T21:23:11.092067Z"
    }
   },
   "outputs": [
    {
     "data": {
      "text/html": [
       "<div>\n",
       "<style scoped>\n",
       "    .dataframe tbody tr th:only-of-type {\n",
       "        vertical-align: middle;\n",
       "    }\n",
       "\n",
       "    .dataframe tbody tr th {\n",
       "        vertical-align: top;\n",
       "    }\n",
       "\n",
       "    .dataframe thead th {\n",
       "        text-align: right;\n",
       "    }\n",
       "</style>\n",
       "<table border=\"1\" class=\"dataframe\">\n",
       "  <thead>\n",
       "    <tr style=\"text-align: right;\">\n",
       "      <th></th>\n",
       "      <th>Precision</th>\n",
       "      <th>Recall</th>\n",
       "      <th>Data</th>\n",
       "    </tr>\n",
       "  </thead>\n",
       "  <tbody>\n",
       "    <tr>\n",
       "      <th>0</th>\n",
       "      <td>0.464000</td>\n",
       "      <td>1.000000</td>\n",
       "      <td>Benchmark</td>\n",
       "    </tr>\n",
       "    <tr>\n",
       "      <th>1</th>\n",
       "      <td>0.625000</td>\n",
       "      <td>0.948276</td>\n",
       "      <td>Benchmark</td>\n",
       "    </tr>\n",
       "    <tr>\n",
       "      <th>2</th>\n",
       "      <td>0.647059</td>\n",
       "      <td>0.948276</td>\n",
       "      <td>Benchmark</td>\n",
       "    </tr>\n",
       "    <tr>\n",
       "      <th>3</th>\n",
       "      <td>0.675325</td>\n",
       "      <td>0.896552</td>\n",
       "      <td>Benchmark</td>\n",
       "    </tr>\n",
       "    <tr>\n",
       "      <th>4</th>\n",
       "      <td>0.803922</td>\n",
       "      <td>0.706897</td>\n",
       "      <td>Benchmark</td>\n",
       "    </tr>\n",
       "    <tr>\n",
       "      <th>5</th>\n",
       "      <td>0.800000</td>\n",
       "      <td>0.689655</td>\n",
       "      <td>Benchmark</td>\n",
       "    </tr>\n",
       "    <tr>\n",
       "      <th>6</th>\n",
       "      <td>0.816327</td>\n",
       "      <td>0.689655</td>\n",
       "      <td>Benchmark</td>\n",
       "    </tr>\n",
       "    <tr>\n",
       "      <th>7</th>\n",
       "      <td>0.833333</td>\n",
       "      <td>0.689655</td>\n",
       "      <td>Benchmark</td>\n",
       "    </tr>\n",
       "    <tr>\n",
       "      <th>8</th>\n",
       "      <td>0.961538</td>\n",
       "      <td>0.431034</td>\n",
       "      <td>Benchmark</td>\n",
       "    </tr>\n",
       "    <tr>\n",
       "      <th>9</th>\n",
       "      <td>1.000000</td>\n",
       "      <td>0.275862</td>\n",
       "      <td>Benchmark</td>\n",
       "    </tr>\n",
       "    <tr>\n",
       "      <th>10</th>\n",
       "      <td>1.000000</td>\n",
       "      <td>0.000000</td>\n",
       "      <td>Benchmark</td>\n",
       "    </tr>\n",
       "  </tbody>\n",
       "</table>\n",
       "</div>"
      ],
      "text/plain": [
       "    Precision    Recall       Data\n",
       "0    0.464000  1.000000  Benchmark\n",
       "1    0.625000  0.948276  Benchmark\n",
       "2    0.647059  0.948276  Benchmark\n",
       "3    0.675325  0.896552  Benchmark\n",
       "4    0.803922  0.706897  Benchmark\n",
       "5    0.800000  0.689655  Benchmark\n",
       "6    0.816327  0.689655  Benchmark\n",
       "7    0.833333  0.689655  Benchmark\n",
       "8    0.961538  0.431034  Benchmark\n",
       "9    1.000000  0.275862  Benchmark\n",
       "10   1.000000  0.000000  Benchmark"
      ]
     },
     "execution_count": 45,
     "metadata": {},
     "output_type": "execute_result"
    }
   ],
   "source": [
    "df_pr_rc_benchmark"
   ]
  },
  {
   "cell_type": "markdown",
   "id": "83d3da9f",
   "metadata": {},
   "source": [
    "### ROC Curve, ROC AUC"
   ]
  },
  {
   "cell_type": "code",
   "execution_count": 46,
   "id": "7c857451",
   "metadata": {
    "ExecuteTime": {
     "end_time": "2022-06-27T21:23:11.137063Z",
     "start_time": "2022-06-27T21:23:11.109067Z"
    }
   },
   "outputs": [
    {
     "data": {
      "text/html": [
       "<div>\n",
       "<style scoped>\n",
       "    .dataframe tbody tr th:only-of-type {\n",
       "        vertical-align: middle;\n",
       "    }\n",
       "\n",
       "    .dataframe tbody tr th {\n",
       "        vertical-align: top;\n",
       "    }\n",
       "\n",
       "    .dataframe thead th {\n",
       "        text-align: right;\n",
       "    }\n",
       "</style>\n",
       "<table border=\"1\" class=\"dataframe\">\n",
       "  <thead>\n",
       "    <tr style=\"text-align: right;\">\n",
       "      <th></th>\n",
       "      <th>False Positive Ratio</th>\n",
       "      <th>True Positive Ratio</th>\n",
       "      <th>Data</th>\n",
       "    </tr>\n",
       "  </thead>\n",
       "  <tbody>\n",
       "    <tr>\n",
       "      <th>0</th>\n",
       "      <td>0.000000</td>\n",
       "      <td>0.000000</td>\n",
       "      <td>Benchmark</td>\n",
       "    </tr>\n",
       "    <tr>\n",
       "      <th>1</th>\n",
       "      <td>0.000000</td>\n",
       "      <td>0.275862</td>\n",
       "      <td>Benchmark</td>\n",
       "    </tr>\n",
       "    <tr>\n",
       "      <th>2</th>\n",
       "      <td>0.014925</td>\n",
       "      <td>0.431034</td>\n",
       "      <td>Benchmark</td>\n",
       "    </tr>\n",
       "    <tr>\n",
       "      <th>3</th>\n",
       "      <td>0.119403</td>\n",
       "      <td>0.689655</td>\n",
       "      <td>Benchmark</td>\n",
       "    </tr>\n",
       "    <tr>\n",
       "      <th>4</th>\n",
       "      <td>0.149254</td>\n",
       "      <td>0.689655</td>\n",
       "      <td>Benchmark</td>\n",
       "    </tr>\n",
       "    <tr>\n",
       "      <th>5</th>\n",
       "      <td>0.149254</td>\n",
       "      <td>0.706897</td>\n",
       "      <td>Benchmark</td>\n",
       "    </tr>\n",
       "    <tr>\n",
       "      <th>6</th>\n",
       "      <td>0.373134</td>\n",
       "      <td>0.896552</td>\n",
       "      <td>Benchmark</td>\n",
       "    </tr>\n",
       "    <tr>\n",
       "      <th>7</th>\n",
       "      <td>0.447761</td>\n",
       "      <td>0.948276</td>\n",
       "      <td>Benchmark</td>\n",
       "    </tr>\n",
       "    <tr>\n",
       "      <th>8</th>\n",
       "      <td>0.492537</td>\n",
       "      <td>0.948276</td>\n",
       "      <td>Benchmark</td>\n",
       "    </tr>\n",
       "    <tr>\n",
       "      <th>9</th>\n",
       "      <td>1.000000</td>\n",
       "      <td>1.000000</td>\n",
       "      <td>Benchmark</td>\n",
       "    </tr>\n",
       "  </tbody>\n",
       "</table>\n",
       "</div>"
      ],
      "text/plain": [
       "   False Positive Ratio  True Positive Ratio       Data\n",
       "0              0.000000             0.000000  Benchmark\n",
       "1              0.000000             0.275862  Benchmark\n",
       "2              0.014925             0.431034  Benchmark\n",
       "3              0.119403             0.689655  Benchmark\n",
       "4              0.149254             0.689655  Benchmark\n",
       "5              0.149254             0.706897  Benchmark\n",
       "6              0.373134             0.896552  Benchmark\n",
       "7              0.447761             0.948276  Benchmark\n",
       "8              0.492537             0.948276  Benchmark\n",
       "9              1.000000             1.000000  Benchmark"
      ]
     },
     "execution_count": 46,
     "metadata": {},
     "output_type": "execute_result"
    }
   ],
   "source": [
    "# compute false positive rate, true positive rate and save them as a separate data frame to plot ROC curve in the future\n",
    "fpr_list, tpr_list, _ = roc_curve(df_test[\"Survived\"] , df_test[\"y_prob\"])\n",
    "\n",
    "df_fp_tp_benchmark = pd.DataFrame.from_dict(\n",
    "    {\n",
    "        \"False Positive Ratio\": fpr_list,\n",
    "        \"True Positive Ratio\": tpr_list\n",
    "    }\n",
    ")\n",
    "df_fp_tp_benchmark[\"Data\"] = \"Benchmark\"\n",
    "df_fp_tp_benchmark"
   ]
  },
  {
   "cell_type": "markdown",
   "id": "86a9bad8",
   "metadata": {
    "ExecuteTime": {
     "end_time": "2022-06-26T20:59:27.272640Z",
     "start_time": "2022-06-26T20:59:27.258641Z"
    }
   },
   "source": [
    "## Inference"
   ]
  },
  {
   "cell_type": "markdown",
   "id": "4db35b7c",
   "metadata": {},
   "source": [
    "Compute metrics on the inference data"
   ]
  },
  {
   "cell_type": "markdown",
   "id": "14edb80c",
   "metadata": {},
   "source": [
    "### Accuracy, Precision, Recall, Precision Recall AUC, ROC AUC"
   ]
  },
  {
   "cell_type": "code",
   "execution_count": 47,
   "id": "9297ef66",
   "metadata": {
    "ExecuteTime": {
     "end_time": "2022-06-27T21:23:11.153064Z",
     "start_time": "2022-06-27T21:23:11.139065Z"
    }
   },
   "outputs": [],
   "source": [
    "accuracy_value = accuracy_score(df_inf[\"Survived\"] , df_inf[\"y_pred\"])\n",
    "precision_value = precision_score(df_inf[\"Survived\"] , df_inf[\"y_pred\"])\n",
    "recall_value = recall_score(df_inf[\"Survived\"] , df_inf[\"y_pred\"])\n",
    "roc_auc_value = roc_auc_score(df_inf[\"Survived\"] , df_inf[\"y_prob\"])\n",
    "\n",
    "precision_list, recall_list, _ = precision_recall_curve(df_inf[\"Survived\"] , df_inf[\"y_prob\"])\n",
    "prec_recall_auc = auc(recall_list, precision_list)\n",
    "\n",
    "# create a separate data fframe for metrics based on inference\n",
    "df_metrics_new_pred = pd.DataFrame.from_dict(\n",
    "    {\n",
    "        \"Accuracy\": round(accuracy_value, 3),\n",
    "        \"Precision\": round(precision_value, 3),\n",
    "        \"Recall\": round(recall_value, 3),\n",
    "        \"PR AUC\": round(prec_recall_auc, 3),\n",
    "        \"ROC AUC\": round(roc_auc_value, 3)\n",
    "    }, \n",
    "    orient=\"index\", \n",
    "    columns=[\"Inference\"]\n",
    ")"
   ]
  },
  {
   "cell_type": "code",
   "execution_count": 48,
   "id": "cc7a4f81",
   "metadata": {
    "ExecuteTime": {
     "end_time": "2022-06-27T21:23:11.169064Z",
     "start_time": "2022-06-27T21:23:11.155068Z"
    }
   },
   "outputs": [],
   "source": [
    "# join metrics on test and inference\n",
    "df_metrics = pd.concat((df_metrics_benchmark, df_metrics_new_pred), axis=1)\n",
    "del df_metrics_benchmark, df_metrics_new_pred"
   ]
  },
  {
   "cell_type": "code",
   "execution_count": 49,
   "id": "522f437f",
   "metadata": {
    "ExecuteTime": {
     "end_time": "2022-06-27T21:23:11.185068Z",
     "start_time": "2022-06-27T21:23:11.170067Z"
    }
   },
   "outputs": [],
   "source": [
    "# compute percentage of change between benchmark and inference values\n",
    "df_metrics[\"% change\"] = round(\n",
    "    (df_metrics[\"Inference\"] - df_metrics[\"Benchmark\"]) * 100 / df_metrics[\"Benchmark\"], \n",
    "    3\n",
    ")"
   ]
  },
  {
   "cell_type": "code",
   "execution_count": 50,
   "id": "8588110f",
   "metadata": {
    "ExecuteTime": {
     "end_time": "2022-06-27T21:23:11.201068Z",
     "start_time": "2022-06-27T21:23:11.186067Z"
    }
   },
   "outputs": [
    {
     "data": {
      "text/html": [
       "<div>\n",
       "<style scoped>\n",
       "    .dataframe tbody tr th:only-of-type {\n",
       "        vertical-align: middle;\n",
       "    }\n",
       "\n",
       "    .dataframe tbody tr th {\n",
       "        vertical-align: top;\n",
       "    }\n",
       "\n",
       "    .dataframe thead th {\n",
       "        text-align: right;\n",
       "    }\n",
       "</style>\n",
       "<table border=\"1\" class=\"dataframe\">\n",
       "  <thead>\n",
       "    <tr style=\"text-align: right;\">\n",
       "      <th></th>\n",
       "      <th>Benchmark</th>\n",
       "      <th>Inference</th>\n",
       "      <th>% change</th>\n",
       "    </tr>\n",
       "  </thead>\n",
       "  <tbody>\n",
       "    <tr>\n",
       "      <th>Accuracy</th>\n",
       "      <td>0.784</td>\n",
       "      <td>0.778</td>\n",
       "      <td>-0.765</td>\n",
       "    </tr>\n",
       "    <tr>\n",
       "      <th>Precision</th>\n",
       "      <td>0.816</td>\n",
       "      <td>0.591</td>\n",
       "      <td>-27.574</td>\n",
       "    </tr>\n",
       "    <tr>\n",
       "      <th>Recall</th>\n",
       "      <td>0.690</td>\n",
       "      <td>0.812</td>\n",
       "      <td>17.681</td>\n",
       "    </tr>\n",
       "    <tr>\n",
       "      <th>PR AUC</th>\n",
       "      <td>0.877</td>\n",
       "      <td>0.850</td>\n",
       "      <td>-3.079</td>\n",
       "    </tr>\n",
       "    <tr>\n",
       "      <th>ROC AUC</th>\n",
       "      <td>0.778</td>\n",
       "      <td>0.907</td>\n",
       "      <td>16.581</td>\n",
       "    </tr>\n",
       "  </tbody>\n",
       "</table>\n",
       "</div>"
      ],
      "text/plain": [
       "           Benchmark  Inference  % change\n",
       "Accuracy       0.784      0.778    -0.765\n",
       "Precision      0.816      0.591   -27.574\n",
       "Recall         0.690      0.812    17.681\n",
       "PR AUC         0.877      0.850    -3.079\n",
       "ROC AUC        0.778      0.907    16.581"
      ]
     },
     "execution_count": 50,
     "metadata": {},
     "output_type": "execute_result"
    }
   ],
   "source": [
    "df_metrics"
   ]
  },
  {
   "cell_type": "code",
   "execution_count": 51,
   "id": "d8fbea96",
   "metadata": {
    "ExecuteTime": {
     "end_time": "2022-06-27T21:23:11.217067Z",
     "start_time": "2022-06-27T21:23:11.203069Z"
    }
   },
   "outputs": [],
   "source": [
    "# save metrics values on test, inference as .csv file\n",
    "df_metrics = df_metrics.reset_index().rename(columns={\"index\": \"Metrics\"})\n",
    "df_metrics.to_csv(os.path.join(DATA_PATH, 'metrics.csv'), index=False)"
   ]
  },
  {
   "cell_type": "markdown",
   "id": "69b3feb8",
   "metadata": {},
   "source": [
    "### Precision Recall Curve, AUC"
   ]
  },
  {
   "cell_type": "code",
   "execution_count": 52,
   "id": "ba795cd6",
   "metadata": {
    "ExecuteTime": {
     "end_time": "2022-06-27T21:23:11.233065Z",
     "start_time": "2022-06-27T21:23:11.219067Z"
    }
   },
   "outputs": [],
   "source": [
    "# create a separate data frame for precision, recall lists to plot them further as Precision Recall Curve\n",
    "df_pr_rc_new_pred = pd.DataFrame.from_dict(\n",
    "    {\n",
    "        \"Precision\": precision_list,\n",
    "        \"Recall\": recall_list\n",
    "    }\n",
    ")\n",
    "df_pr_rc_new_pred[\"Data\"] = \"Inference\""
   ]
  },
  {
   "cell_type": "code",
   "execution_count": 53,
   "id": "6ed1c6a1",
   "metadata": {
    "ExecuteTime": {
     "end_time": "2022-06-27T21:23:11.248065Z",
     "start_time": "2022-06-27T21:23:11.235069Z"
    }
   },
   "outputs": [],
   "source": [
    "# join precision-recsll data frame for test and inference \n",
    "df_pr_rc = pd.concat((df_pr_rc_benchmark, df_pr_rc_new_pred), axis=0)"
   ]
  },
  {
   "cell_type": "code",
   "execution_count": 54,
   "id": "08073444",
   "metadata": {
    "ExecuteTime": {
     "end_time": "2022-06-27T21:23:11.264072Z",
     "start_time": "2022-06-27T21:23:11.250067Z"
    }
   },
   "outputs": [],
   "source": [
    "df_pr_rc.to_csv(os.path.join(DATA_PATH, 'precision_recall.csv'), index=False)"
   ]
  },
  {
   "cell_type": "markdown",
   "id": "1b1689fc",
   "metadata": {},
   "source": [
    "### ROC Curve, ROC AUC"
   ]
  },
  {
   "cell_type": "code",
   "execution_count": 55,
   "id": "11580c8a",
   "metadata": {
    "ExecuteTime": {
     "end_time": "2022-06-27T21:23:11.280064Z",
     "start_time": "2022-06-27T21:23:11.266068Z"
    }
   },
   "outputs": [
    {
     "data": {
      "text/html": [
       "<div>\n",
       "<style scoped>\n",
       "    .dataframe tbody tr th:only-of-type {\n",
       "        vertical-align: middle;\n",
       "    }\n",
       "\n",
       "    .dataframe tbody tr th {\n",
       "        vertical-align: top;\n",
       "    }\n",
       "\n",
       "    .dataframe thead th {\n",
       "        text-align: right;\n",
       "    }\n",
       "</style>\n",
       "<table border=\"1\" class=\"dataframe\">\n",
       "  <thead>\n",
       "    <tr style=\"text-align: right;\">\n",
       "      <th></th>\n",
       "      <th>False Positive Ratio</th>\n",
       "      <th>True Positive Ratio</th>\n",
       "      <th>Data</th>\n",
       "    </tr>\n",
       "  </thead>\n",
       "  <tbody>\n",
       "    <tr>\n",
       "      <th>0</th>\n",
       "      <td>0.000000</td>\n",
       "      <td>0.0000</td>\n",
       "      <td>Inference</td>\n",
       "    </tr>\n",
       "    <tr>\n",
       "      <th>1</th>\n",
       "      <td>0.000000</td>\n",
       "      <td>0.5000</td>\n",
       "      <td>Inference</td>\n",
       "    </tr>\n",
       "    <tr>\n",
       "      <th>2</th>\n",
       "      <td>0.078947</td>\n",
       "      <td>0.6875</td>\n",
       "      <td>Inference</td>\n",
       "    </tr>\n",
       "    <tr>\n",
       "      <th>3</th>\n",
       "      <td>0.236842</td>\n",
       "      <td>0.7500</td>\n",
       "      <td>Inference</td>\n",
       "    </tr>\n",
       "    <tr>\n",
       "      <th>4</th>\n",
       "      <td>0.236842</td>\n",
       "      <td>0.8750</td>\n",
       "      <td>Inference</td>\n",
       "    </tr>\n",
       "    <tr>\n",
       "      <th>5</th>\n",
       "      <td>0.500000</td>\n",
       "      <td>1.0000</td>\n",
       "      <td>Inference</td>\n",
       "    </tr>\n",
       "    <tr>\n",
       "      <th>6</th>\n",
       "      <td>0.552632</td>\n",
       "      <td>1.0000</td>\n",
       "      <td>Inference</td>\n",
       "    </tr>\n",
       "    <tr>\n",
       "      <th>7</th>\n",
       "      <td>0.631579</td>\n",
       "      <td>1.0000</td>\n",
       "      <td>Inference</td>\n",
       "    </tr>\n",
       "    <tr>\n",
       "      <th>8</th>\n",
       "      <td>1.000000</td>\n",
       "      <td>1.0000</td>\n",
       "      <td>Inference</td>\n",
       "    </tr>\n",
       "  </tbody>\n",
       "</table>\n",
       "</div>"
      ],
      "text/plain": [
       "   False Positive Ratio  True Positive Ratio       Data\n",
       "0              0.000000               0.0000  Inference\n",
       "1              0.000000               0.5000  Inference\n",
       "2              0.078947               0.6875  Inference\n",
       "3              0.236842               0.7500  Inference\n",
       "4              0.236842               0.8750  Inference\n",
       "5              0.500000               1.0000  Inference\n",
       "6              0.552632               1.0000  Inference\n",
       "7              0.631579               1.0000  Inference\n",
       "8              1.000000               1.0000  Inference"
      ]
     },
     "execution_count": 55,
     "metadata": {},
     "output_type": "execute_result"
    }
   ],
   "source": [
    "# create a separate data frame for false positive and true positive rates to plot them further as ROC curve\n",
    "fpr_list, tpr_list, _ = roc_curve(df_inf[\"Survived\"] , df_inf[\"y_prob\"])\n",
    "\n",
    "df_fp_tp_new_pred = pd.DataFrame.from_dict(\n",
    "    {\n",
    "        \"False Positive Ratio\": fpr_list,\n",
    "        \"True Positive Ratio\": tpr_list\n",
    "    }\n",
    ")\n",
    "df_fp_tp_new_pred[\"Data\"] = \"Inference\"\n",
    "df_fp_tp_new_pred"
   ]
  },
  {
   "cell_type": "code",
   "execution_count": 56,
   "id": "73cf442f",
   "metadata": {
    "ExecuteTime": {
     "end_time": "2022-06-27T21:23:11.296066Z",
     "start_time": "2022-06-27T21:23:11.282066Z"
    }
   },
   "outputs": [],
   "source": [
    "# join data frames with fpr, tpr based on test and inference \n",
    "df_fp_tp = pd.concat((df_fp_tp_benchmark, df_fp_tp_new_pred), axis=0)"
   ]
  },
  {
   "cell_type": "code",
   "execution_count": 57,
   "id": "6bd6e9b9",
   "metadata": {
    "ExecuteTime": {
     "end_time": "2022-06-27T21:23:11.312065Z",
     "start_time": "2022-06-27T21:23:11.298065Z"
    }
   },
   "outputs": [],
   "source": [
    "df_fp_tp.to_csv(os.path.join(DATA_PATH, 'fpr_tpr.csv'), index=False)"
   ]
  },
  {
   "cell_type": "markdown",
   "id": "7f977ec8",
   "metadata": {},
   "source": [
    "# Population Stability Index (PSI)"
   ]
  },
  {
   "cell_type": "markdown",
   "id": "a9b30851",
   "metadata": {
    "ExecuteTime": {
     "end_time": "2022-06-27T21:23:11.328099Z",
     "start_time": "2022-06-27T21:23:11.313066Z"
    }
   },
   "source": [
    "**The population stability index (PSI)** is a statistic that measures how much a variable has shifted over time, and is used to monitor applicability of a statistical model to the current population.\n",
    "Details by the [link](https://scholarworks.wmich.edu/cgi/viewcontent.cgi?article=4249&context=dissertations#:~:text=The%20population%20stability%20index%20(PSI,model%20to%20the%20current%20population.)\n"
   ]
  },
  {
   "cell_type": "code",
   "execution_count": 59,
   "id": "52957657",
   "metadata": {
    "ExecuteTime": {
     "end_time": "2022-06-27T21:23:11.359065Z",
     "start_time": "2022-06-27T21:23:11.330068Z"
    }
   },
   "outputs": [],
   "source": [
    "# compute PSI for categorical features and save them as a separate data frame\n",
    "df_psi_cactegorical = pd.DataFrame()\n",
    "for col in [\"Pclass_1\", \"Pclass_3\", \"IfMale\"]:\n",
    "    # compute PSI\n",
    "    df_pci_ = psi(\n",
    "        col_benchmark=df_test[col], \n",
    "        col_input=df_inf[col], \n",
    "        input_type=\"categorical\", \n",
    "        q = 10, zero_offset = 0.001\n",
    "    )\n",
    "    # add a dummy column - name of a feature\n",
    "    df_pci_[\"Feature\"] = col\n",
    "    # concatenate with previous results\n",
    "    df_psi_cactegorical = pd.concat((df_psi_cactegorical, df_pci_), axis=0)"
   ]
  },
  {
   "cell_type": "code",
   "execution_count": 60,
   "id": "603b40bf",
   "metadata": {
    "ExecuteTime": {
     "end_time": "2022-06-27T21:23:11.375064Z",
     "start_time": "2022-06-27T21:23:11.361067Z"
    }
   },
   "outputs": [
    {
     "data": {
      "text/html": [
       "<div>\n",
       "<style scoped>\n",
       "    .dataframe tbody tr th:only-of-type {\n",
       "        vertical-align: middle;\n",
       "    }\n",
       "\n",
       "    .dataframe tbody tr th {\n",
       "        vertical-align: top;\n",
       "    }\n",
       "\n",
       "    .dataframe thead th {\n",
       "        text-align: right;\n",
       "    }\n",
       "</style>\n",
       "<table border=\"1\" class=\"dataframe\">\n",
       "  <thead>\n",
       "    <tr style=\"text-align: right;\">\n",
       "      <th></th>\n",
       "      <th>values</th>\n",
       "      <th>n_benchmark</th>\n",
       "      <th>n</th>\n",
       "      <th>dff</th>\n",
       "      <th>log</th>\n",
       "      <th>psi</th>\n",
       "      <th>Feature</th>\n",
       "    </tr>\n",
       "  </thead>\n",
       "  <tbody>\n",
       "    <tr>\n",
       "      <th>0</th>\n",
       "      <td>0.0</td>\n",
       "      <td>0.704</td>\n",
       "      <td>0.703704</td>\n",
       "      <td>0.000296</td>\n",
       "      <td>0.000421</td>\n",
       "      <td>1.247301e-07</td>\n",
       "      <td>Pclass_1</td>\n",
       "    </tr>\n",
       "    <tr>\n",
       "      <th>1</th>\n",
       "      <td>1.0</td>\n",
       "      <td>0.296</td>\n",
       "      <td>0.296296</td>\n",
       "      <td>-0.000296</td>\n",
       "      <td>-0.001001</td>\n",
       "      <td>2.964445e-07</td>\n",
       "      <td>Pclass_1</td>\n",
       "    </tr>\n",
       "    <tr>\n",
       "      <th>2</th>\n",
       "      <td>0.0</td>\n",
       "      <td>0.448</td>\n",
       "      <td>0.555556</td>\n",
       "      <td>-0.107556</td>\n",
       "      <td>-0.215175</td>\n",
       "      <td>2.314331e-02</td>\n",
       "      <td>Pclass_3</td>\n",
       "    </tr>\n",
       "    <tr>\n",
       "      <th>3</th>\n",
       "      <td>1.0</td>\n",
       "      <td>0.552</td>\n",
       "      <td>0.444444</td>\n",
       "      <td>0.107556</td>\n",
       "      <td>0.216723</td>\n",
       "      <td>2.330976e-02</td>\n",
       "      <td>Pclass_3</td>\n",
       "    </tr>\n",
       "    <tr>\n",
       "      <th>4</th>\n",
       "      <td>0.0</td>\n",
       "      <td>0.384</td>\n",
       "      <td>0.388889</td>\n",
       "      <td>-0.004889</td>\n",
       "      <td>-0.012651</td>\n",
       "      <td>6.184991e-05</td>\n",
       "      <td>IfMale</td>\n",
       "    </tr>\n",
       "    <tr>\n",
       "      <th>5</th>\n",
       "      <td>1.0</td>\n",
       "      <td>0.616</td>\n",
       "      <td>0.611111</td>\n",
       "      <td>0.004889</td>\n",
       "      <td>0.007968</td>\n",
       "      <td>3.895550e-05</td>\n",
       "      <td>IfMale</td>\n",
       "    </tr>\n",
       "  </tbody>\n",
       "</table>\n",
       "</div>"
      ],
      "text/plain": [
       "   values  n_benchmark         n       dff       log           psi   Feature\n",
       "0     0.0        0.704  0.703704  0.000296  0.000421  1.247301e-07  Pclass_1\n",
       "1     1.0        0.296  0.296296 -0.000296 -0.001001  2.964445e-07  Pclass_1\n",
       "2     0.0        0.448  0.555556 -0.107556 -0.215175  2.314331e-02  Pclass_3\n",
       "3     1.0        0.552  0.444444  0.107556  0.216723  2.330976e-02  Pclass_3\n",
       "4     0.0        0.384  0.388889 -0.004889 -0.012651  6.184991e-05    IfMale\n",
       "5     1.0        0.616  0.611111  0.004889  0.007968  3.895550e-05    IfMale"
      ]
     },
     "execution_count": 60,
     "metadata": {},
     "output_type": "execute_result"
    }
   ],
   "source": [
    "df_psi_cactegorical.reset_index(drop=True, inplace=True)\n",
    "df_psi_cactegorical"
   ]
  },
  {
   "cell_type": "code",
   "execution_count": 61,
   "id": "3b277736",
   "metadata": {
    "ExecuteTime": {
     "end_time": "2022-06-27T21:23:11.407088Z",
     "start_time": "2022-06-27T21:23:11.377068Z"
    }
   },
   "outputs": [],
   "source": [
    "# compute PSI for numeric features\n",
    "df_psi_numeric = pd.DataFrame()\n",
    "for col in [\"Fare\", \"Age\"]:\n",
    "    # compute PSI\n",
    "    df_pci_ = psi(\n",
    "        col_benchmark=df_test[col], \n",
    "        col_input=df_inf[col], \n",
    "        input_type=\"categorical\", \n",
    "        q = 10, zero_offset = 0.001\n",
    "    )\n",
    "    # add a dummy column - name of a feature\n",
    "    df_pci_[\"Feature\"] = col\n",
    "    # concatenate with previous results\n",
    "    df_psi_numeric = pd.concat((df_psi_numeric, df_pci_), axis=0)"
   ]
  },
  {
   "cell_type": "code",
   "execution_count": 62,
   "id": "9fcc2f82",
   "metadata": {
    "ExecuteTime": {
     "end_time": "2022-06-27T21:23:11.423066Z",
     "start_time": "2022-06-27T21:23:11.409066Z"
    }
   },
   "outputs": [
    {
     "data": {
      "text/html": [
       "<div>\n",
       "<style scoped>\n",
       "    .dataframe tbody tr th:only-of-type {\n",
       "        vertical-align: middle;\n",
       "    }\n",
       "\n",
       "    .dataframe tbody tr th {\n",
       "        vertical-align: top;\n",
       "    }\n",
       "\n",
       "    .dataframe thead th {\n",
       "        text-align: right;\n",
       "    }\n",
       "</style>\n",
       "<table border=\"1\" class=\"dataframe\">\n",
       "  <thead>\n",
       "    <tr style=\"text-align: right;\">\n",
       "      <th></th>\n",
       "      <th>values</th>\n",
       "      <th>n_benchmark</th>\n",
       "      <th>n</th>\n",
       "      <th>dff</th>\n",
       "      <th>log</th>\n",
       "      <th>psi</th>\n",
       "      <th>Feature</th>\n",
       "    </tr>\n",
       "  </thead>\n",
       "  <tbody>\n",
       "    <tr>\n",
       "      <th>0</th>\n",
       "      <td>0.0000</td>\n",
       "      <td>0.008</td>\n",
       "      <td>0.018519</td>\n",
       "      <td>-0.010519</td>\n",
       "      <td>-0.839330</td>\n",
       "      <td>0.008829</td>\n",
       "      <td>Fare</td>\n",
       "    </tr>\n",
       "    <tr>\n",
       "      <th>1</th>\n",
       "      <td>7.0500</td>\n",
       "      <td>0.024</td>\n",
       "      <td>0.018519</td>\n",
       "      <td>0.005481</td>\n",
       "      <td>0.259283</td>\n",
       "      <td>0.001421</td>\n",
       "      <td>Fare</td>\n",
       "    </tr>\n",
       "    <tr>\n",
       "      <th>2</th>\n",
       "      <td>7.2292</td>\n",
       "      <td>0.008</td>\n",
       "      <td>0.018519</td>\n",
       "      <td>-0.010519</td>\n",
       "      <td>-0.839330</td>\n",
       "      <td>0.008829</td>\n",
       "      <td>Fare</td>\n",
       "    </tr>\n",
       "    <tr>\n",
       "      <th>3</th>\n",
       "      <td>7.2500</td>\n",
       "      <td>0.016</td>\n",
       "      <td>0.018519</td>\n",
       "      <td>-0.002519</td>\n",
       "      <td>-0.146183</td>\n",
       "      <td>0.000368</td>\n",
       "      <td>Fare</td>\n",
       "    </tr>\n",
       "    <tr>\n",
       "      <th>4</th>\n",
       "      <td>7.7500</td>\n",
       "      <td>0.048</td>\n",
       "      <td>0.037037</td>\n",
       "      <td>0.010963</td>\n",
       "      <td>0.259283</td>\n",
       "      <td>0.002843</td>\n",
       "      <td>Fare</td>\n",
       "    </tr>\n",
       "    <tr>\n",
       "      <th>5</th>\n",
       "      <td>7.8542</td>\n",
       "      <td>0.016</td>\n",
       "      <td>0.037037</td>\n",
       "      <td>-0.021037</td>\n",
       "      <td>-0.839330</td>\n",
       "      <td>0.017657</td>\n",
       "      <td>Fare</td>\n",
       "    </tr>\n",
       "    <tr>\n",
       "      <th>6</th>\n",
       "      <td>7.8958</td>\n",
       "      <td>0.032</td>\n",
       "      <td>0.037037</td>\n",
       "      <td>-0.005037</td>\n",
       "      <td>-0.146183</td>\n",
       "      <td>0.000736</td>\n",
       "      <td>Fare</td>\n",
       "    </tr>\n",
       "    <tr>\n",
       "      <th>7</th>\n",
       "      <td>8.0500</td>\n",
       "      <td>0.048</td>\n",
       "      <td>0.037037</td>\n",
       "      <td>0.010963</td>\n",
       "      <td>0.259283</td>\n",
       "      <td>0.002843</td>\n",
       "      <td>Fare</td>\n",
       "    </tr>\n",
       "    <tr>\n",
       "      <th>8</th>\n",
       "      <td>10.5000</td>\n",
       "      <td>0.032</td>\n",
       "      <td>0.055556</td>\n",
       "      <td>-0.023556</td>\n",
       "      <td>-0.551648</td>\n",
       "      <td>0.012994</td>\n",
       "      <td>Fare</td>\n",
       "    </tr>\n",
       "    <tr>\n",
       "      <th>9</th>\n",
       "      <td>13.0000</td>\n",
       "      <td>0.032</td>\n",
       "      <td>0.092593</td>\n",
       "      <td>-0.060593</td>\n",
       "      <td>-1.062473</td>\n",
       "      <td>0.064378</td>\n",
       "      <td>Fare</td>\n",
       "    </tr>\n",
       "    <tr>\n",
       "      <th>10</th>\n",
       "      <td>26.0000</td>\n",
       "      <td>0.024</td>\n",
       "      <td>0.055556</td>\n",
       "      <td>-0.031556</td>\n",
       "      <td>-0.839330</td>\n",
       "      <td>0.026486</td>\n",
       "      <td>Fare</td>\n",
       "    </tr>\n",
       "    <tr>\n",
       "      <th>11</th>\n",
       "      <td>31.0000</td>\n",
       "      <td>0.008</td>\n",
       "      <td>0.018519</td>\n",
       "      <td>-0.010519</td>\n",
       "      <td>-0.839330</td>\n",
       "      <td>0.008829</td>\n",
       "      <td>Fare</td>\n",
       "    </tr>\n",
       "    <tr>\n",
       "      <th>12</th>\n",
       "      <td>52.0000</td>\n",
       "      <td>0.016</td>\n",
       "      <td>0.018519</td>\n",
       "      <td>-0.002519</td>\n",
       "      <td>-0.146183</td>\n",
       "      <td>0.000368</td>\n",
       "      <td>Fare</td>\n",
       "    </tr>\n",
       "    <tr>\n",
       "      <th>13</th>\n",
       "      <td>73.5000</td>\n",
       "      <td>0.008</td>\n",
       "      <td>0.018519</td>\n",
       "      <td>-0.010519</td>\n",
       "      <td>-0.839330</td>\n",
       "      <td>0.008829</td>\n",
       "      <td>Fare</td>\n",
       "    </tr>\n",
       "    <tr>\n",
       "      <th>14</th>\n",
       "      <td>9.0000</td>\n",
       "      <td>0.016</td>\n",
       "      <td>0.018519</td>\n",
       "      <td>-0.002519</td>\n",
       "      <td>-0.146183</td>\n",
       "      <td>0.000368</td>\n",
       "      <td>Age</td>\n",
       "    </tr>\n",
       "    <tr>\n",
       "      <th>15</th>\n",
       "      <td>16.0000</td>\n",
       "      <td>0.024</td>\n",
       "      <td>0.037037</td>\n",
       "      <td>-0.013037</td>\n",
       "      <td>-0.433865</td>\n",
       "      <td>0.005656</td>\n",
       "      <td>Age</td>\n",
       "    </tr>\n",
       "    <tr>\n",
       "      <th>16</th>\n",
       "      <td>17.0000</td>\n",
       "      <td>0.016</td>\n",
       "      <td>0.018519</td>\n",
       "      <td>-0.002519</td>\n",
       "      <td>-0.146183</td>\n",
       "      <td>0.000368</td>\n",
       "      <td>Age</td>\n",
       "    </tr>\n",
       "    <tr>\n",
       "      <th>17</th>\n",
       "      <td>18.0000</td>\n",
       "      <td>0.024</td>\n",
       "      <td>0.055556</td>\n",
       "      <td>-0.031556</td>\n",
       "      <td>-0.839330</td>\n",
       "      <td>0.026486</td>\n",
       "      <td>Age</td>\n",
       "    </tr>\n",
       "    <tr>\n",
       "      <th>18</th>\n",
       "      <td>19.0000</td>\n",
       "      <td>0.032</td>\n",
       "      <td>0.037037</td>\n",
       "      <td>-0.005037</td>\n",
       "      <td>-0.146183</td>\n",
       "      <td>0.000736</td>\n",
       "      <td>Age</td>\n",
       "    </tr>\n",
       "    <tr>\n",
       "      <th>19</th>\n",
       "      <td>20.0000</td>\n",
       "      <td>0.008</td>\n",
       "      <td>0.037037</td>\n",
       "      <td>-0.029037</td>\n",
       "      <td>-1.532477</td>\n",
       "      <td>0.044499</td>\n",
       "      <td>Age</td>\n",
       "    </tr>\n",
       "    <tr>\n",
       "      <th>20</th>\n",
       "      <td>21.0000</td>\n",
       "      <td>0.032</td>\n",
       "      <td>0.018519</td>\n",
       "      <td>0.013481</td>\n",
       "      <td>0.546965</td>\n",
       "      <td>0.007374</td>\n",
       "      <td>Age</td>\n",
       "    </tr>\n",
       "    <tr>\n",
       "      <th>21</th>\n",
       "      <td>22.0000</td>\n",
       "      <td>0.008</td>\n",
       "      <td>0.055556</td>\n",
       "      <td>-0.047556</td>\n",
       "      <td>-1.937942</td>\n",
       "      <td>0.092160</td>\n",
       "      <td>Age</td>\n",
       "    </tr>\n",
       "    <tr>\n",
       "      <th>22</th>\n",
       "      <td>24.0000</td>\n",
       "      <td>0.024</td>\n",
       "      <td>0.018519</td>\n",
       "      <td>0.005481</td>\n",
       "      <td>0.259283</td>\n",
       "      <td>0.001421</td>\n",
       "      <td>Age</td>\n",
       "    </tr>\n",
       "    <tr>\n",
       "      <th>23</th>\n",
       "      <td>27.0000</td>\n",
       "      <td>0.016</td>\n",
       "      <td>0.018519</td>\n",
       "      <td>-0.002519</td>\n",
       "      <td>-0.146183</td>\n",
       "      <td>0.000368</td>\n",
       "      <td>Age</td>\n",
       "    </tr>\n",
       "    <tr>\n",
       "      <th>24</th>\n",
       "      <td>28.0000</td>\n",
       "      <td>0.256</td>\n",
       "      <td>0.166667</td>\n",
       "      <td>0.089333</td>\n",
       "      <td>0.429182</td>\n",
       "      <td>0.038340</td>\n",
       "      <td>Age</td>\n",
       "    </tr>\n",
       "    <tr>\n",
       "      <th>25</th>\n",
       "      <td>29.0000</td>\n",
       "      <td>0.016</td>\n",
       "      <td>0.037037</td>\n",
       "      <td>-0.021037</td>\n",
       "      <td>-0.839330</td>\n",
       "      <td>0.017657</td>\n",
       "      <td>Age</td>\n",
       "    </tr>\n",
       "    <tr>\n",
       "      <th>26</th>\n",
       "      <td>30.0000</td>\n",
       "      <td>0.024</td>\n",
       "      <td>0.037037</td>\n",
       "      <td>-0.013037</td>\n",
       "      <td>-0.433865</td>\n",
       "      <td>0.005656</td>\n",
       "      <td>Age</td>\n",
       "    </tr>\n",
       "    <tr>\n",
       "      <th>27</th>\n",
       "      <td>31.0000</td>\n",
       "      <td>0.024</td>\n",
       "      <td>0.018519</td>\n",
       "      <td>0.005481</td>\n",
       "      <td>0.259283</td>\n",
       "      <td>0.001421</td>\n",
       "      <td>Age</td>\n",
       "    </tr>\n",
       "    <tr>\n",
       "      <th>28</th>\n",
       "      <td>32.0000</td>\n",
       "      <td>0.016</td>\n",
       "      <td>0.018519</td>\n",
       "      <td>-0.002519</td>\n",
       "      <td>-0.146183</td>\n",
       "      <td>0.000368</td>\n",
       "      <td>Age</td>\n",
       "    </tr>\n",
       "    <tr>\n",
       "      <th>29</th>\n",
       "      <td>36.0000</td>\n",
       "      <td>0.032</td>\n",
       "      <td>0.055556</td>\n",
       "      <td>-0.023556</td>\n",
       "      <td>-0.551648</td>\n",
       "      <td>0.012994</td>\n",
       "      <td>Age</td>\n",
       "    </tr>\n",
       "    <tr>\n",
       "      <th>30</th>\n",
       "      <td>38.0000</td>\n",
       "      <td>0.024</td>\n",
       "      <td>0.018519</td>\n",
       "      <td>0.005481</td>\n",
       "      <td>0.259283</td>\n",
       "      <td>0.001421</td>\n",
       "      <td>Age</td>\n",
       "    </tr>\n",
       "    <tr>\n",
       "      <th>31</th>\n",
       "      <td>39.0000</td>\n",
       "      <td>0.016</td>\n",
       "      <td>0.018519</td>\n",
       "      <td>-0.002519</td>\n",
       "      <td>-0.146183</td>\n",
       "      <td>0.000368</td>\n",
       "      <td>Age</td>\n",
       "    </tr>\n",
       "    <tr>\n",
       "      <th>32</th>\n",
       "      <td>40.0000</td>\n",
       "      <td>0.032</td>\n",
       "      <td>0.018519</td>\n",
       "      <td>0.013481</td>\n",
       "      <td>0.546965</td>\n",
       "      <td>0.007374</td>\n",
       "      <td>Age</td>\n",
       "    </tr>\n",
       "    <tr>\n",
       "      <th>33</th>\n",
       "      <td>42.0000</td>\n",
       "      <td>0.008</td>\n",
       "      <td>0.018519</td>\n",
       "      <td>-0.010519</td>\n",
       "      <td>-0.839330</td>\n",
       "      <td>0.008829</td>\n",
       "      <td>Age</td>\n",
       "    </tr>\n",
       "    <tr>\n",
       "      <th>34</th>\n",
       "      <td>44.0000</td>\n",
       "      <td>0.008</td>\n",
       "      <td>0.018519</td>\n",
       "      <td>-0.010519</td>\n",
       "      <td>-0.839330</td>\n",
       "      <td>0.008829</td>\n",
       "      <td>Age</td>\n",
       "    </tr>\n",
       "    <tr>\n",
       "      <th>35</th>\n",
       "      <td>47.0000</td>\n",
       "      <td>0.008</td>\n",
       "      <td>0.018519</td>\n",
       "      <td>-0.010519</td>\n",
       "      <td>-0.839330</td>\n",
       "      <td>0.008829</td>\n",
       "      <td>Age</td>\n",
       "    </tr>\n",
       "    <tr>\n",
       "      <th>36</th>\n",
       "      <td>48.0000</td>\n",
       "      <td>0.008</td>\n",
       "      <td>0.018519</td>\n",
       "      <td>-0.010519</td>\n",
       "      <td>-0.839330</td>\n",
       "      <td>0.008829</td>\n",
       "      <td>Age</td>\n",
       "    </tr>\n",
       "    <tr>\n",
       "      <th>37</th>\n",
       "      <td>65.0000</td>\n",
       "      <td>0.008</td>\n",
       "      <td>0.018519</td>\n",
       "      <td>-0.010519</td>\n",
       "      <td>-0.839330</td>\n",
       "      <td>0.008829</td>\n",
       "      <td>Age</td>\n",
       "    </tr>\n",
       "    <tr>\n",
       "      <th>38</th>\n",
       "      <td>71.0000</td>\n",
       "      <td>0.008</td>\n",
       "      <td>0.018519</td>\n",
       "      <td>-0.010519</td>\n",
       "      <td>-0.839330</td>\n",
       "      <td>0.008829</td>\n",
       "      <td>Age</td>\n",
       "    </tr>\n",
       "  </tbody>\n",
       "</table>\n",
       "</div>"
      ],
      "text/plain": [
       "     values  n_benchmark         n       dff       log       psi Feature\n",
       "0    0.0000        0.008  0.018519 -0.010519 -0.839330  0.008829    Fare\n",
       "1    7.0500        0.024  0.018519  0.005481  0.259283  0.001421    Fare\n",
       "2    7.2292        0.008  0.018519 -0.010519 -0.839330  0.008829    Fare\n",
       "3    7.2500        0.016  0.018519 -0.002519 -0.146183  0.000368    Fare\n",
       "4    7.7500        0.048  0.037037  0.010963  0.259283  0.002843    Fare\n",
       "5    7.8542        0.016  0.037037 -0.021037 -0.839330  0.017657    Fare\n",
       "6    7.8958        0.032  0.037037 -0.005037 -0.146183  0.000736    Fare\n",
       "7    8.0500        0.048  0.037037  0.010963  0.259283  0.002843    Fare\n",
       "8   10.5000        0.032  0.055556 -0.023556 -0.551648  0.012994    Fare\n",
       "9   13.0000        0.032  0.092593 -0.060593 -1.062473  0.064378    Fare\n",
       "10  26.0000        0.024  0.055556 -0.031556 -0.839330  0.026486    Fare\n",
       "11  31.0000        0.008  0.018519 -0.010519 -0.839330  0.008829    Fare\n",
       "12  52.0000        0.016  0.018519 -0.002519 -0.146183  0.000368    Fare\n",
       "13  73.5000        0.008  0.018519 -0.010519 -0.839330  0.008829    Fare\n",
       "14   9.0000        0.016  0.018519 -0.002519 -0.146183  0.000368     Age\n",
       "15  16.0000        0.024  0.037037 -0.013037 -0.433865  0.005656     Age\n",
       "16  17.0000        0.016  0.018519 -0.002519 -0.146183  0.000368     Age\n",
       "17  18.0000        0.024  0.055556 -0.031556 -0.839330  0.026486     Age\n",
       "18  19.0000        0.032  0.037037 -0.005037 -0.146183  0.000736     Age\n",
       "19  20.0000        0.008  0.037037 -0.029037 -1.532477  0.044499     Age\n",
       "20  21.0000        0.032  0.018519  0.013481  0.546965  0.007374     Age\n",
       "21  22.0000        0.008  0.055556 -0.047556 -1.937942  0.092160     Age\n",
       "22  24.0000        0.024  0.018519  0.005481  0.259283  0.001421     Age\n",
       "23  27.0000        0.016  0.018519 -0.002519 -0.146183  0.000368     Age\n",
       "24  28.0000        0.256  0.166667  0.089333  0.429182  0.038340     Age\n",
       "25  29.0000        0.016  0.037037 -0.021037 -0.839330  0.017657     Age\n",
       "26  30.0000        0.024  0.037037 -0.013037 -0.433865  0.005656     Age\n",
       "27  31.0000        0.024  0.018519  0.005481  0.259283  0.001421     Age\n",
       "28  32.0000        0.016  0.018519 -0.002519 -0.146183  0.000368     Age\n",
       "29  36.0000        0.032  0.055556 -0.023556 -0.551648  0.012994     Age\n",
       "30  38.0000        0.024  0.018519  0.005481  0.259283  0.001421     Age\n",
       "31  39.0000        0.016  0.018519 -0.002519 -0.146183  0.000368     Age\n",
       "32  40.0000        0.032  0.018519  0.013481  0.546965  0.007374     Age\n",
       "33  42.0000        0.008  0.018519 -0.010519 -0.839330  0.008829     Age\n",
       "34  44.0000        0.008  0.018519 -0.010519 -0.839330  0.008829     Age\n",
       "35  47.0000        0.008  0.018519 -0.010519 -0.839330  0.008829     Age\n",
       "36  48.0000        0.008  0.018519 -0.010519 -0.839330  0.008829     Age\n",
       "37  65.0000        0.008  0.018519 -0.010519 -0.839330  0.008829     Age\n",
       "38  71.0000        0.008  0.018519 -0.010519 -0.839330  0.008829     Age"
      ]
     },
     "execution_count": 62,
     "metadata": {},
     "output_type": "execute_result"
    }
   ],
   "source": [
    "df_psi_numeric.reset_index(drop=True, inplace=True)\n",
    "df_psi_numeric"
   ]
  },
  {
   "cell_type": "code",
   "execution_count": 63,
   "id": "9c8be869",
   "metadata": {
    "ExecuteTime": {
     "end_time": "2022-06-27T21:23:11.439076Z",
     "start_time": "2022-06-27T21:23:11.424066Z"
    }
   },
   "outputs": [],
   "source": [
    "# psi values above are computed per bin/unique categorical value\n",
    "# it's being aggregated below to have a value per feature\n",
    "# for both catgorical and numeric values\n",
    "df_psi_cactegorical = df_psi_cactegorical.groupby(\"Feature\").psi.sum().reset_index(name=\"psi\")\n",
    "df_psi_numeric = df_psi_numeric.groupby(\"Feature\").psi.sum().reset_index(name=\"psi\")\n",
    "\n",
    "# aggregated statistics are concatenated and saved below\n",
    "df_psi = pd.concat((df_psi_cactegorical, df_psi_numeric))"
   ]
  },
  {
   "cell_type": "code",
   "execution_count": 64,
   "id": "9f8eff50",
   "metadata": {
    "ExecuteTime": {
     "end_time": "2022-06-27T21:23:11.455121Z",
     "start_time": "2022-06-27T21:23:11.441068Z"
    }
   },
   "outputs": [
    {
     "data": {
      "text/html": [
       "<div>\n",
       "<style scoped>\n",
       "    .dataframe tbody tr th:only-of-type {\n",
       "        vertical-align: middle;\n",
       "    }\n",
       "\n",
       "    .dataframe tbody tr th {\n",
       "        vertical-align: top;\n",
       "    }\n",
       "\n",
       "    .dataframe thead th {\n",
       "        text-align: right;\n",
       "    }\n",
       "</style>\n",
       "<table border=\"1\" class=\"dataframe\">\n",
       "  <thead>\n",
       "    <tr style=\"text-align: right;\">\n",
       "      <th></th>\n",
       "      <th>Feature</th>\n",
       "      <th>psi</th>\n",
       "    </tr>\n",
       "  </thead>\n",
       "  <tbody>\n",
       "    <tr>\n",
       "      <th>0</th>\n",
       "      <td>IfMale</td>\n",
       "      <td>1.008054e-04</td>\n",
       "    </tr>\n",
       "    <tr>\n",
       "      <th>1</th>\n",
       "      <td>Pclass_1</td>\n",
       "      <td>4.211746e-07</td>\n",
       "    </tr>\n",
       "    <tr>\n",
       "      <th>2</th>\n",
       "      <td>Pclass_3</td>\n",
       "      <td>4.645307e-02</td>\n",
       "    </tr>\n",
       "    <tr>\n",
       "      <th>0</th>\n",
       "      <td>Age</td>\n",
       "      <td>3.180079e-01</td>\n",
       "    </tr>\n",
       "    <tr>\n",
       "      <th>1</th>\n",
       "      <td>Fare</td>\n",
       "      <td>1.654078e-01</td>\n",
       "    </tr>\n",
       "  </tbody>\n",
       "</table>\n",
       "</div>"
      ],
      "text/plain": [
       "    Feature           psi\n",
       "0    IfMale  1.008054e-04\n",
       "1  Pclass_1  4.211746e-07\n",
       "2  Pclass_3  4.645307e-02\n",
       "0       Age  3.180079e-01\n",
       "1      Fare  1.654078e-01"
      ]
     },
     "execution_count": 64,
     "metadata": {},
     "output_type": "execute_result"
    }
   ],
   "source": [
    "df_psi"
   ]
  },
  {
   "cell_type": "code",
   "execution_count": 65,
   "id": "f209890a",
   "metadata": {
    "ExecuteTime": {
     "end_time": "2022-06-27T21:23:11.471121Z",
     "start_time": "2022-06-27T21:23:11.456068Z"
    }
   },
   "outputs": [],
   "source": [
    "df_psi.to_csv(os.path.join(DATA_PATH, \"psi.csv\"), index=False)"
   ]
  }
 ],
 "metadata": {
  "kernelspec": {
   "display_name": "titanic",
   "language": "python",
   "name": "titanic"
  },
  "language_info": {
   "codemirror_mode": {
    "name": "ipython",
    "version": 3
   },
   "file_extension": ".py",
   "mimetype": "text/x-python",
   "name": "python",
   "nbconvert_exporter": "python",
   "pygments_lexer": "ipython3",
   "version": "3.9.5"
  },
  "toc": {
   "base_numbering": 1,
   "nav_menu": {},
   "number_sections": true,
   "sideBar": true,
   "skip_h1_title": false,
   "title_cell": "Table of Contents",
   "title_sidebar": "Contents",
   "toc_cell": false,
   "toc_position": {},
   "toc_section_display": true,
   "toc_window_display": false
  },
  "varInspector": {
   "cols": {
    "lenName": 16,
    "lenType": 16,
    "lenVar": 40
   },
   "kernels_config": {
    "python": {
     "delete_cmd_postfix": "",
     "delete_cmd_prefix": "del ",
     "library": "var_list.py",
     "varRefreshCmd": "print(var_dic_list())"
    },
    "r": {
     "delete_cmd_postfix": ") ",
     "delete_cmd_prefix": "rm(",
     "library": "var_list.r",
     "varRefreshCmd": "cat(var_dic_list()) "
    }
   },
   "oldHeight": 122.844,
   "position": {
    "height": "40px",
    "left": "1544px",
    "right": "20px",
    "top": "99px",
    "width": "350px"
   },
   "types_to_exclude": [
    "module",
    "function",
    "builtin_function_or_method",
    "instance",
    "_Feature"
   ],
   "varInspector_section_display": "none",
   "window_display": true
  }
 },
 "nbformat": 4,
 "nbformat_minor": 5
}
